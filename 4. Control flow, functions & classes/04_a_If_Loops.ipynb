{
 "cells": [
  {
   "cell_type": "markdown",
   "metadata": {},
   "source": [
    "# Flow Control (Control de flujos)"
   ]
  },
  {
   "cell_type": "markdown",
   "metadata": {},
   "source": [
    "- El flow control se refiere a **cómo** queremos que nuestras instrucciones (programa) se ejecuten\n",
    "- **cómo** : se refiere, principalmente, al **_orden_** que queremos que tengan nuestros statements y las **_condiciones_** bajo las que queremos que se ejecuten\n",
    "- Por ejemplo, muchas veces no necesitamos que _todas las líneas_ de nuestras instrucciones se ejecuten. Dependiendo de ciertas condicionalidades, algunas instrucciones se activarán y otras no"
   ]
  },
  {
   "cell_type": "markdown",
   "metadata": {},
   "source": [
    "<img src=\"img/ctrl_1.png\" width=\"300\">"
   ]
  },
  {
   "cell_type": "code",
   "execution_count": null,
   "metadata": {
    "hide_input": true
   },
   "outputs": [],
   "source": [
    "import numpy as np\n",
    "import pandas as pd"
   ]
  },
  {
   "cell_type": "markdown",
   "metadata": {},
   "source": [
    "# 4. If and Loops"
   ]
  },
  {
   "cell_type": "markdown",
   "metadata": {},
   "source": [
    "- <a href='#def'>4.1. If condition</a>\n",
    "     - <a href='#4.1.1.'>4.1.1. The structure of the code </a> \n",
    "     - <a href='#4.1.2.'>4.1.2. Adding ```else```</a> \n",
    "     - <a href='#4.1.3.'>4.1.3. Difference between ```elif``` and ```if``` </a> \n",
    "     - <a href='#4.1.4.'>4.1.4. Logical Operators </a> \n",
    "     - <a href='#4.1.5.'>4.1.5. Identity operators </a> \n",
    "     - <a href='#4.1.6.'>4.1.6. Nested ```if``` statement </a>  \n",
    "- <a href='#4.2.'>4.2. For Loops </a> \n",
    "     - <a href='#4.2.1.'>4.2.1. In numpy </a> \n",
    "     - <a href='#4.2.2.'> 4.2.2. In List </a> \n",
    "     - <a href='#4.2.3.'> 4.2.3. In Dictionary </a> \n",
    "     - <a href='#4.2.4.'> 4.2.4. For loop using range</a>\n",
    "     - <a href='#4.2.5.'> 4.2.5. Nested For Loop</a>\n",
    "     - <a href='#4.2.6.'> 4.2.6. Iterations over Pandas</a>\n",
    "- <a href='#4.3.'> 4.3. Pass, Continue, Break, Try</a>\n",
    "     - <a href='#4.3.1.'>4.3.1. Pass</a>\n",
    "     - <a href='#4.3.2.'>4.3.2. Continue</a>\n",
    "     - <a href='#4.3.3.'>4.3.3. Break</a>\n",
    "     - <a href='#4.3.4.'>4.3.4. Try </a>\n",
    "     \n",
    "- <a href='#4.4.'>4.4. While Loop </a>\n",
    "     - <a href='#4.4.1.'>4.4.1. Structure </a>\n",
    "- <a href='#4.5.'>4.5. References </a>  "
   ]
  },
  {
   "cell_type": "markdown",
   "metadata": {},
   "source": [
    "## 4.1. <a id='def'> If statements </a>\n",
    "\n",
    "Los statements condifionales (if statements) nos permiten realizar cosas basadas en una condicionalidad.\n",
    "\n",
    "La estructura general de un statement condicional es la siguiente:  \n",
    "\n",
    "```python\n",
    "if condition <boolean>:\n",
    "        <conditional statement>\n",
    "else:\n",
    "        <another conditional statement>\n",
    "```\n",
    "\n",
    "Boolean:\n",
    "\n",
    "- Equals: a == b\n",
    "- Not Equals: a != b\n",
    "- Less than: a < b\n",
    "- Less than or equal to: a <= b\n",
    "- Greater than: a > b\n",
    "- Greater than or equal to: a >= b"
   ]
  },
  {
   "cell_type": "markdown",
   "metadata": {},
   "source": [
    "## 4.1.1.  <a id='4.1.1.'> The structure of the code </a> <br>\n",
    "\n",
    "<font size=\"4\">\n",
    "if <font color='green'>test expresion</font>:<br>\n",
    "&nbsp;&nbsp;&nbsp;&nbsp;Code to excute<br>\n",
    "</font>\n",
    "\n",
    "The **if** statement tests the veracity of a logic expression. The result of test statement should be a **<font color='red'>boolean</font>**. In other words, the output of the test statemen must be **<font color='red'>True</font>** or **<font color='red'>False</font>**. To sum, any function that its output is **boolean** can be used as a test expression in the **if** function. "
   ]
  },
  {
   "cell_type": "markdown",
   "metadata": {},
   "source": [
    "#### Examples"
   ]
  },
  {
   "cell_type": "code",
   "execution_count": null,
   "metadata": {},
   "outputs": [],
   "source": [
    "x = 5 \n",
    "if x > 1:\n",
    "    print(\"x is greater than 1\")\n",
    "print(\"This is printed anyway since it´s out of the indented block\")"
   ]
  },
  {
   "cell_type": "code",
   "execution_count": null,
   "metadata": {},
   "outputs": [],
   "source": [
    "x = 50 \n",
    "if  x % 5: \n",
    "    print (\"Divisible by 5\")"
   ]
  },
  {
   "cell_type": "markdown",
   "metadata": {},
   "source": [
    "### 4.1.2.   <a id='4.1.2.'> Adding ```else``` </a> "
   ]
  },
  {
   "cell_type": "markdown",
   "metadata": {},
   "source": [
    "The ```else``` statement is evalueted when ```if``` is false"
   ]
  },
  {
   "cell_type": "code",
   "execution_count": null,
   "metadata": {},
   "outputs": [],
   "source": [
    "x = -5\n",
    "\n",
    "if x > 0:\n",
    "    print(\"positive number\")\n",
    "else:\n",
    "    print(\"non-positive number\")         "
   ]
  },
  {
   "cell_type": "markdown",
   "metadata": {},
   "source": [
    "### 4.1.2.   <a id='4.1.2.'> Adding ```elif``` </a> "
   ]
  },
  {
   "cell_type": "markdown",
   "metadata": {},
   "source": [
    "The ```elif``` works before ```else``` evaluating conditions after ```if``` isn´t satisfied. The ```elif``` are mutually exclusive"
   ]
  },
  {
   "cell_type": "code",
   "execution_count": null,
   "metadata": {},
   "outputs": [],
   "source": [
    "x = -5\n",
    "\n",
    "if x > 0:\n",
    "    print(\"positive number\")\n",
    "elif x == 0:\n",
    "    print(\"zero\")\n",
    "else:\n",
    "    print(\"negative number\")         "
   ]
  },
  {
   "cell_type": "markdown",
   "metadata": {},
   "source": [
    "### 4.1.3.   <a id='4.1.3.'> Difference between ```elif``` and ```if``` </a> "
   ]
  },
  {
   "cell_type": "markdown",
   "metadata": {},
   "source": [
    "Both ```elif``` and  ```else``` indicates that under the satisfaction of condition, control flow is end up. However, the ```if``` will continue evaluating conditions"
   ]
  },
  {
   "cell_type": "code",
   "execution_count": null,
   "metadata": {},
   "outputs": [],
   "source": [
    "x = 1000000\n",
    "\n",
    "if x > 0:  \n",
    "    print(\"número positivo\")\n",
    "if x > 4:                    # if\n",
    "    print(\"número > 4\")\n",
    "if x > 10000:                # if\n",
    "    print(\"número mayor a 10000\")\n",
    "else:\n",
    "    print(\"no imprime porque no llega hasta aquí\")"
   ]
  },
  {
   "cell_type": "code",
   "execution_count": null,
   "metadata": {},
   "outputs": [],
   "source": [
    "x = 1000000\n",
    "\n",
    "if x > 0:\n",
    "    print(\"número positivo\")\n",
    "elif x > 4:                  # elif\n",
    "    print(\"número > 4\")\n",
    "elif x > 10000:              # elif\n",
    "    print(\"número mayor a 10000\")\n",
    "else:\n",
    "    print(\"este statement no se imprime\")"
   ]
  },
  {
   "cell_type": "markdown",
   "metadata": {},
   "source": [
    "The lamp example describes ```elif``` conditions: after the lamp is pluged-in, the lamp is turned-on"
   ]
  },
  {
   "cell_type": "markdown",
   "metadata": {},
   "source": [
    "<img src=\"img/ctrl_1.png\" width=\"300\">"
   ]
  },
  {
   "cell_type": "markdown",
   "metadata": {},
   "source": [
    "In code:"
   ]
  },
  {
   "cell_type": "code",
   "execution_count": null,
   "metadata": {},
   "outputs": [],
   "source": [
    "lampara_desenchufada = True\n",
    "foco_no_quemado = True\n",
    "lampara_malograda = True\n",
    "\n",
    "if lampara_desenchufada:\n",
    "    print(\"enchufar la lámpara\")\n",
    "elif foco_no_quemado:\n",
    "    print(\"cambiar foco\")\n",
    "elif lampara_malograda:\n",
    "    print(\"reparar lámpara\")\n",
    "else:\n",
    "    print(\"ya cambia  tu lámpara ya\")\n",
    "    "
   ]
  },
  {
   "cell_type": "markdown",
   "metadata": {},
   "source": [
    "Under the ```if```, is will be:"
   ]
  },
  {
   "cell_type": "markdown",
   "metadata": {},
   "source": [
    "<img src=\"img/ctrl_2.png\" width=\"300\">"
   ]
  },
  {
   "cell_type": "code",
   "execution_count": null,
   "metadata": {},
   "outputs": [],
   "source": [
    "lampara_desenchufada = True\n",
    "foco_no_quemado = True\n",
    "lampara_malograda = True\n",
    "\n",
    "if lampara_desenchufada:\n",
    "    print(\"enchufar la lampara\")\n",
    "if foco_no_quemado:\n",
    "    print(\"cambiar foco\")\n",
    "if lampara_malograda:\n",
    "    print(\"reparar lámpara\")\n",
    "else:\n",
    "    print(\"ya cambia tu lámpara ya\")"
   ]
  },
  {
   "cell_type": "markdown",
   "metadata": {},
   "source": [
    "### 4.1.4.   <a id='4.1.4.'> [Logical Operators](https://www.geeksforgeeks.org/python-logical-operators-with-examples-improvement-needed/) </a> \n",
    "\n",
    "\n",
    "Three key logical operators: **<font color = 'red' >and</font>**, **<font color = 'red' > or</font>**, and **<font color = 'red' > not</font>**."
   ]
  },
  {
   "cell_type": "code",
   "execution_count": null,
   "metadata": {},
   "outputs": [],
   "source": [
    "A = 20\n",
    "B = 30\n",
    "C = 25\n",
    "\n",
    "if ( A == B ) and ( A < C ):\n",
    "     print ('A is equal to B and less than C. Condition 1 is true.')\n",
    "    \n",
    "elif ( A > B ) or ( A > C ):\n",
    "     print ('A is greater than B or greater than C. Condition 2 is true.')\n",
    "\n",
    "elif ( B > C ) and ( B > A ):\n",
    "     print ('B is greater than C and greater than A. Condition 3 is true.')\n",
    "    \n",
    "else:\n",
    "     print ('When neither condition is true, this phrase is printed.')"
   ]
  },
  {
   "cell_type": "markdown",
   "metadata": {},
   "source": [
    "### 4.1.5.   <a id='4.1.5.'> [Identity Operators](https://www.w3schools.com/python/gloss_python_identity_operators.asp) </a> \n",
    "\n",
    "These operators help us to compare whether variables refer to the same object.\n",
    "We have **<font color = 'red' >is</font>**, and **<font color = 'red' > is not</font>** as identity operators."
   ]
  },
  {
   "cell_type": "code",
   "execution_count": null,
   "metadata": {},
   "outputs": [],
   "source": [
    "C = None\n",
    "C"
   ]
  },
  {
   "cell_type": "code",
   "execution_count": null,
   "metadata": {},
   "outputs": [],
   "source": [
    "if C is None:\n",
    "    print( 'Ohh C is None :(')"
   ]
  },
  {
   "cell_type": "code",
   "execution_count": null,
   "metadata": {},
   "outputs": [],
   "source": [
    "if C is not float:\n",
    "    print( 'C is not a float')"
   ]
  },
  {
   "cell_type": "markdown",
   "metadata": {},
   "source": [
    "#### Difference between **<font color = 'red' > ==</font>** and **<font color = 'red' > is</font>** operator in Python\n",
    "\n",
    "1. **<font color = 'red' > ==</font>** operator compares the **values** of both the operands and checks for value equality.\n",
    "2. **<font color = 'red' > is</font>** operator checks whether both the operands refer to the same **object** or not (present in the same memory location)."
   ]
  },
  {
   "cell_type": "code",
   "execution_count": null,
   "metadata": {},
   "outputs": [],
   "source": [
    "a = 5\n",
    "b = 5\n",
    "print(a is b)"
   ]
  },
  {
   "cell_type": "code",
   "execution_count": null,
   "metadata": {},
   "outputs": [],
   "source": [
    "a = np.arange(0, 4)\n",
    "b = np.array( [0, 1 , 2 , 3 ] )\n",
    "print(a == b)\n",
    "print(a is b)"
   ]
  },
  {
   "cell_type": "markdown",
   "metadata": {},
   "source": [
    "### 4.1.6.   <a id='4.1.6.'> Nested ```if``` statement </a> "
   ]
  },
  {
   "cell_type": "code",
   "execution_count": null,
   "metadata": {},
   "outputs": [],
   "source": [
    "total = 120\n",
    "country = \"AR\"\n",
    "#country = \"AR\"\n",
    "\n",
    "if country == \"PE\":\n",
    "    if total <= 50:\n",
    "        print(\"Shipping Cost is  $50\")\n",
    "    elif total <= 100:\n",
    "        print(\"Shipping Cost is $25\")\n",
    "    elif total <= 150:\n",
    "        print(\"Shipping Costs $5\")\n",
    "    else:\n",
    "        print(\"FREE\")\n",
    "    \n",
    "if country == \"AR\": \n",
    "    if total <= 50:\n",
    "        print(\"Shipping Cost is  $100\")\n",
    "\n",
    "    else:\n",
    "        print(\"FREE\")"
   ]
  },
  {
   "cell_type": "markdown",
   "metadata": {},
   "source": [
    "## 4.2.   <a id='4.2.'> For Loops </a> \n",
    "\n",
    "\n",
    "A for loop is used for **iterating** over a sequence. It executes a code a definite number of times."
   ]
  },
  {
   "cell_type": "markdown",
   "metadata": {},
   "source": [
    "```for``` structure:\n",
    "\n",
    "```python\n",
    "for value in <group of values>:\n",
    "    do something\n",
    "\n",
    "```"
   ]
  },
  {
   "cell_type": "markdown",
   "metadata": {},
   "source": [
    "### 4.2.1. <a id='4.2.1.'> In NumPy & lists </a> "
   ]
  },
  {
   "cell_type": "code",
   "execution_count": null,
   "metadata": {},
   "outputs": [],
   "source": [
    "sequence = np.array( [15, 20, 25, 30 , 35 , 40 , 50 ] )\n",
    "sequence"
   ]
  },
  {
   "cell_type": "code",
   "execution_count": null,
   "metadata": {},
   "outputs": [],
   "source": [
    "for number in sequence:\n",
    "    #print(i)\n",
    "    square = number**2\n",
    "    print(square)"
   ]
  },
  {
   "cell_type": "code",
   "execution_count": null,
   "metadata": {},
   "outputs": [],
   "source": [
    "i = 0\n",
    "for element in sequence:\n",
    "    print( element )"
   ]
  },
  {
   "cell_type": "markdown",
   "metadata": {},
   "source": [
    "Please, when iterating, don´t modify the original list "
   ]
  },
  {
   "cell_type": "code",
   "execution_count": null,
   "metadata": {},
   "outputs": [],
   "source": [
    "ages = [5, 17, 33, 45, 60]\n",
    "for elem in ages:\n",
    "    ages.pop(3)   #### DON'T DO THIS\n",
    "    print(ages)"
   ]
  },
  {
   "cell_type": "markdown",
   "metadata": {},
   "source": [
    "Instead, create a new list"
   ]
  },
  {
   "cell_type": "code",
   "execution_count": null,
   "metadata": {},
   "outputs": [],
   "source": [
    "ages = [5, 17, 33, 45, 60]\n",
    "\n",
    "new_lst = []\n",
    "\n",
    "for age in ages:\n",
    "    age +=5\n",
    "    new_lst.append(age) \n",
    "print(new_lst)\n",
    "print(ages) "
   ]
  },
  {
   "cell_type": "markdown",
   "metadata": {},
   "source": [
    "### 4.2.3  <a id='4.2.3.'>In Dictionary </a> "
   ]
  },
  {
   "cell_type": "code",
   "execution_count": null,
   "metadata": {},
   "outputs": [],
   "source": [
    "class_1 = { \"students\" : ['Miguel', 'Anthony', 'Paul', 'Rodrigo', 'Jason'] , \n",
    "           \"age\" : [20, 18, 15, 20, 22] }"
   ]
  },
  {
   "cell_type": "code",
   "execution_count": null,
   "metadata": {},
   "outputs": [],
   "source": [
    " for val in class_1[\"age\"]:\n",
    "         print (val)"
   ]
  },
  {
   "cell_type": "code",
   "execution_count": null,
   "metadata": {},
   "outputs": [],
   "source": [
    "for val in class_1.values():\n",
    "    print( val )"
   ]
  },
  {
   "cell_type": "code",
   "execution_count": null,
   "metadata": {},
   "outputs": [],
   "source": [
    "for key in class_1.keys():\n",
    "    for val in class_1[key]:\n",
    "         print (val)"
   ]
  },
  {
   "cell_type": "markdown",
   "metadata": {},
   "source": [
    "### 4.2.4 <a id = '4.2.4.'>  For loop using range </a>"
   ]
  },
  {
   "cell_type": "code",
   "execution_count": null,
   "metadata": {},
   "outputs": [],
   "source": [
    "# Class\n",
    "students = ['Miguel', 'Anthony', 'Paul', 'Rodrigo', 'Jason', 'Yajaira']\n",
    "\n",
    "# Ages\n",
    "ages = [20, 18, 15, 20, 22, 25]\n",
    "\n",
    "for index in range (0, len (students)):\n",
    "     print ( f'{ students[index] } is { ages[index] } years old.' )"
   ]
  },
  {
   "cell_type": "code",
   "execution_count": null,
   "metadata": {},
   "outputs": [],
   "source": [
    "for i, element in enumerate( students ):\n",
    "    print ( f'{ students[i] } is { ages[i] } years old.' )"
   ]
  },
  {
   "cell_type": "markdown",
   "metadata": {},
   "source": [
    "### 4.2.5 <a id='4.2.5.'>  Nested For Loop </a>\n",
    "\n",
    "A for loop inside of another for loop."
   ]
  },
  {
   "cell_type": "code",
   "execution_count": null,
   "metadata": {},
   "outputs": [],
   "source": [
    "age_class = [ [11, 12, 11] , [15, 16, 16] , [17, 17, 18]]\n",
    "age_class"
   ]
  },
  {
   "cell_type": "code",
   "execution_count": null,
   "metadata": {},
   "outputs": [],
   "source": [
    "for classs in age_class:\n",
    "    print( classs )\n",
    "    \n",
    "    for age in classs:\n",
    "        print( age )"
   ]
  },
  {
   "cell_type": "code",
   "execution_count": null,
   "metadata": {},
   "outputs": [],
   "source": [
    "# sequence\n",
    "students = [ 'Justin' , 'Pogba', 'Paul', 'Carrillo', 'Xavi' ]\n",
    "\n",
    "# age\n",
    "gr_age = [ 20, 18, 15, 20, 22]\n",
    "\n",
    "# Loops\n",
    "for student, age in zip( students , gr_age ):\n",
    "    print(f'{ student } is { age }')"
   ]
  },
  {
   "cell_type": "code",
   "execution_count": null,
   "metadata": {},
   "outputs": [],
   "source": [
    "## Diferent dimmensions\n",
    "# sequence\n",
    "students = [ 'Justin' , 'Pogba', 'Paul', 'Carrillo', 'Xavi' ]\n",
    "\n",
    "# Edades\n",
    "gr_age = [ 20, 18, 15, 20 ]\n",
    "\n",
    "for student, age in zip( students , gr_age ):\n",
    "    print(f'{ student } is { age }')"
   ]
  },
  {
   "cell_type": "code",
   "execution_count": null,
   "metadata": {},
   "outputs": [],
   "source": [
    "## if + for\n",
    "income_annual = [10_000, 20_000, 50_000, 120_000, 1000000, 6_000_000]\n",
    "uit = 5150\n",
    "\n",
    "\n",
    "for income in income_annual:\n",
    "    if income <= 5 * uit:\n",
    "        impuesto = 0.08 * income\n",
    "        print(\"if my income is S/\", str(income), \"my taxes are S/\", str(impuesto))\n",
    "    elif (income > 5 * uit) & (income <= 20 * uit):\n",
    "        impuesto = 0.14 * income\n",
    "        print(\"if my income is S/\", str(income), \"my taxes are S/\", str(impuesto))\n",
    "    elif (income > 20 * uit) & (income <= 35 * uit):\n",
    "        impuesto = 0.17 * income\n",
    "        print(\"if my income is S/\", str(income), \"my taxes are S/\", str(impuesto))\n",
    "    elif (income > 35 * uit) & (income <= 45 * uit):\n",
    "        impuesto = 0.2 * income\n",
    "        print(\"if my income is S/\", str(income), \"my taxes are S/\", str(impuesto))      \n",
    "    else:\n",
    "        impuesto = 0.3 * income\n",
    "        print(\"if my income is S/\", str(income), \"my taxes are S/\", str(impuesto))"
   ]
  },
  {
   "cell_type": "markdown",
   "metadata": {},
   "source": [
    "### 4.2.6. <a id = '4.2.6.'> Iterations over Pandas</a>"
   ]
  },
  {
   "cell_type": "markdown",
   "metadata": {},
   "source": [
    "[Marine fishing extraction by destination and main species (thousands of tons)](https://estadisticas.bcrp.gob.pe/estadisticas/series/anuales/extraccion-pesquera-maritima-por-destino-y-principales-especies-miles-de-toneladas)"
   ]
  },
  {
   "cell_type": "code",
   "execution_count": null,
   "metadata": {},
   "outputs": [],
   "source": [
    "# !conda install openpyxl"
   ]
  },
  {
   "cell_type": "code",
   "execution_count": null,
   "metadata": {},
   "outputs": [],
   "source": [
    "import pandas as pd"
   ]
  },
  {
   "cell_type": "code",
   "execution_count": null,
   "metadata": {},
   "outputs": [],
   "source": [
    "pesca_produccion = pd.read_excel(r\"data/pesca_produccion.xlsx\")"
   ]
  },
  {
   "cell_type": "code",
   "execution_count": null,
   "metadata": {},
   "outputs": [],
   "source": [
    "pesca_produccion.columns"
   ]
  },
  {
   "cell_type": "code",
   "execution_count": null,
   "metadata": {},
   "outputs": [],
   "source": [
    "for index, row in pesca_produccion.iloc[ :, 1:-2 ].iterrows():\n",
    "    pesca_produccion.at[ index, 'Max_min'] = row.max() - row.min()"
   ]
  },
  {
   "cell_type": "code",
   "execution_count": null,
   "metadata": {},
   "outputs": [],
   "source": [
    "pesca_produccion.head()"
   ]
  },
  {
   "cell_type": "markdown",
   "metadata": {},
   "source": [
    "## 4.3. <a id = '4.3.'> Pass, Continue, Break, Try</a>"
   ]
  },
  {
   "cell_type": "markdown",
   "metadata": {},
   "source": [
    "Please, review this YouTube [video](https://www.youtube.com/watch?v=yCZBnjF4_tU) and also this [one](https://www.youtube.com/watch?v=JCRpVwtVL4I) for more info"
   ]
  },
  {
   "cell_type": "markdown",
   "metadata": {},
   "source": [
    "|Function|Description|\n",
    "|---|---|\n",
    "| `Pass`| Allows you to handle the condition <br> without the loop being impacted in any way|\n",
    "| `Continue`| The current iteration of the loop will be disrupted, <br> but the program will return to the top of the loop|\n",
    "| `Break`| The loop will exit|\n",
    "| `Try`| This command lets you test a block of code for errors.|\n",
    "| `Exception`| An exception is an event, which occurs during <br> the execution of a program that disrupts the normal <br> flow of the program's instructions. <br> It allows you to raise a message to help the user.|"
   ]
  },
  {
   "cell_type": "markdown",
   "metadata": {},
   "source": [
    "\n",
    "### 4.3.1 <a id = '4.3.1.'> Pass</a>"
   ]
  },
  {
   "cell_type": "code",
   "execution_count": null,
   "metadata": {},
   "outputs": [],
   "source": [
    "for number in range(10):\n",
    "    print('Number is ' + str(number))"
   ]
  },
  {
   "cell_type": "code",
   "execution_count": null,
   "metadata": {},
   "outputs": [],
   "source": [
    "a = 2\n",
    "if a == 1:\n",
    "    print(a)"
   ]
  },
  {
   "cell_type": "code",
   "execution_count": null,
   "metadata": {},
   "outputs": [],
   "source": [
    "prime = [2 , 3, 5, 7]"
   ]
  },
  {
   "cell_type": "code",
   "execution_count": null,
   "metadata": {},
   "outputs": [],
   "source": [
    "# Looking for prime numbers\n",
    "for number in range(10):\n",
    "    \n",
    "    print('Number is ' + str(number))\n",
    "    \n",
    "    if (number in prime):\n",
    "        # comment\n",
    "        # pass\n",
    "        print(\"This is a prime number\")\n",
    "\n",
    "    elif number == 3:\n",
    "        #number = number + 1\n",
    "        print( f'This number is {number}' )\n",
    "\n",
    "    else:\n",
    "        #number = number + 2\n",
    "        print('This is not a prime number' , '\\n')\n",
    "\n",
    "print('Out of loop')"
   ]
  },
  {
   "cell_type": "code",
   "execution_count": null,
   "metadata": {},
   "outputs": [],
   "source": [
    "# This is looking for prime numbers\n",
    "for number in range(10):\n",
    "    \n",
    "    print('Number is ' + str(number))\n",
    "    \n",
    "    if (number in prime):\n",
    "        # comment\n",
    "        pass\n",
    "        #print(\"This is a prime number\")\n",
    "\n",
    "    elif number == 3:\n",
    "        #number = number + 1\n",
    "        print( f'This number is {number}' )\n",
    "\n",
    "    else:\n",
    "        #number = number + 2\n",
    "        print('This is not a prime number' , '\\n')\n",
    "\n",
    "print('Out of loop')"
   ]
  },
  {
   "cell_type": "markdown",
   "metadata": {},
   "source": [
    "### 4.3.2. <a id = '4.3.2.'>Continue</a>"
   ]
  },
  {
   "cell_type": "code",
   "execution_count": null,
   "metadata": {},
   "outputs": [],
   "source": [
    "for number in range(10):\n",
    "    print('Number is ' + str(number))\n",
    "    \n",
    "    if number == 5:\n",
    "        # comment\n",
    "        continue\n",
    "\n",
    "    elif number == 3:\n",
    "        #number = number + 1\n",
    "        print( f'This number is {number}' )\n",
    "\n",
    "    else:\n",
    "        #number = number + 2\n",
    "        print('Different number than 3 and 5' , '\\n')\n",
    "    \n",
    "    \n",
    "\n",
    "print('Out of loop')"
   ]
  },
  {
   "cell_type": "code",
   "execution_count": null,
   "metadata": {},
   "outputs": [],
   "source": [
    "# find the even numbers\n",
    "\n",
    "for i in range(10):\n",
    "    \n",
    "    if i % 2 == False:\n",
    "        pass\n",
    "    \n",
    "    else:\n",
    "        continue\n",
    "    \n",
    "    print(\"juan\")\n",
    "    print(i)"
   ]
  },
  {
   "cell_type": "markdown",
   "metadata": {},
   "source": [
    "### 4.3.3. <a id = '4.3.3.'>Break</a>"
   ]
  },
  {
   "cell_type": "code",
   "execution_count": null,
   "metadata": {},
   "outputs": [],
   "source": [
    "for number in range(10):\n",
    "    print('Number is ' + str(number))\n",
    "    \n",
    "    if number == 5:\n",
    "        # comment\n",
    "        print( f'This number is {number}' )\n",
    "\n",
    "    elif number == 0:\n",
    "        #number = number + 1\n",
    "        print('This is the output of break.')\n",
    "        break\n",
    "        \n",
    "    else:\n",
    "        #number = number + 2\n",
    "        print('Different number =! 3, 5', \"\\n\")\n",
    "\n",
    "    \n",
    "\n",
    "print('Out of loop')"
   ]
  },
  {
   "cell_type": "code",
   "execution_count": null,
   "metadata": {},
   "outputs": [],
   "source": [
    "for number in range(10):\n",
    "    if number == 5:\n",
    "        # comment\n",
    "        raise Exception('This is the output of exception as an example.')\n",
    "\n",
    "    elif number == 3:\n",
    "        #number = number + 1\n",
    "        print( f'This number is {number}' )\n",
    "\n",
    "    else:\n",
    "        #number = number + 2\n",
    "        print('Different number')\n",
    "\n",
    "    print('Number is ' + str(number))\n",
    "\n",
    "print('Out of loop')"
   ]
  },
  {
   "cell_type": "markdown",
   "metadata": {},
   "source": [
    "### 4.3.4. <a id = '4.3.4.'> Try </a>\n",
    "\n",
    "|Function|Description|\n",
    "|---|---|\n",
    "|`except`| Run a code if an error occurs.|\n",
    "|`else`| The code will be executed whether there is no error.|\n",
    "|`finally`| The code will be executed <br> does no matter whether or not the try raises an exception.|"
   ]
  },
  {
   "cell_type": "markdown",
   "metadata": {},
   "source": [
    "`except`: Run a code if an error occurs."
   ]
  },
  {
   "cell_type": "code",
   "execution_count": null,
   "metadata": {},
   "outputs": [],
   "source": [
    "x = 'Hola'"
   ]
  },
  {
   "cell_type": "code",
   "execution_count": null,
   "metadata": {},
   "outputs": [],
   "source": [
    "print(x + 4)"
   ]
  },
  {
   "cell_type": "code",
   "execution_count": null,
   "metadata": {},
   "outputs": [],
   "source": [
    "try:\n",
    "    print(x + 4)\n",
    "    \n",
    "except TypeError:\n",
    "    print(5+5)\n",
    "    print(\"An error tipo TypeError\")\n",
    "    \n",
    "except NameError:\n",
    "    print(\"Variable x is not defined\")\n",
    "    \n",
    "except:\n",
    "    print(\"Something else went wrong\")"
   ]
  },
  {
   "cell_type": "code",
   "execution_count": null,
   "metadata": {},
   "outputs": [],
   "source": [
    "name = \"John\"\n",
    "\n",
    "print(namme)"
   ]
  },
  {
   "cell_type": "code",
   "execution_count": null,
   "metadata": {},
   "outputs": [],
   "source": [
    "try:\n",
    "    print(namme)\n",
    "    \n",
    "except TypeError:\n",
    "    print(5+5)\n",
    "    print(\"An error tipo TypeError\")\n",
    "    \n",
    "except NameError:\n",
    "    print(\"the correct label of the variable is name\" )\n",
    "    print(\"Variable x is not defined\")\n",
    "    \n",
    "except:\n",
    "    print(\"Something else went wrong\")"
   ]
  },
  {
   "cell_type": "code",
   "execution_count": null,
   "metadata": {},
   "outputs": [],
   "source": [
    "try:\n",
    "    print(namme)\n",
    "    \n",
    "# except TypeError:\n",
    "#     print(5+5)\n",
    "#     print(\"An error tipo TypeError\")\n",
    "    \n",
    "# except NameError:\n",
    "#     print(\"the correct label of the variable is name\" )\n",
    "#     print(\"Variable x is not defined\")\n",
    "    \n",
    "except:\n",
    "    print(\"There is an error\")"
   ]
  },
  {
   "cell_type": "markdown",
   "metadata": {},
   "source": [
    "`else`: The code will be executed whether there is no error."
   ]
  },
  {
   "cell_type": "code",
   "execution_count": null,
   "metadata": {},
   "outputs": [],
   "source": [
    "x = 6"
   ]
  },
  {
   "cell_type": "code",
   "execution_count": null,
   "metadata": {},
   "outputs": [],
   "source": [
    "try:\n",
    "    x + 4\n",
    "    \n",
    "except:\n",
    "    print(\"Something went wrong\")\n",
    "    #print( 5 + 4)\n",
    "\n",
    "else:\n",
    "    print(\"Nothing went wrong\")\n",
    "    \n",
    "    try:\n",
    "        print( x + \"2\")    \n",
    "    except:\n",
    "        print(\"error 2\")"
   ]
  },
  {
   "cell_type": "markdown",
   "metadata": {},
   "source": [
    "`finally`: The code will be executed does no matter whether or not the try raises an exception."
   ]
  },
  {
   "cell_type": "code",
   "execution_count": null,
   "metadata": {},
   "outputs": [],
   "source": [
    "x = 6"
   ]
  },
  {
   "cell_type": "code",
   "execution_count": null,
   "metadata": {},
   "outputs": [],
   "source": [
    "try:\n",
    "    print(x + 4)\n",
    "except:\n",
    "    print(\"Something went wrong\")\n",
    "finally:\n",
    "    print( f'el elemento {x} ya paso por este filtro')"
   ]
  },
  {
   "cell_type": "markdown",
   "metadata": {},
   "source": [
    "## 4.4. <a id='4.4.'> While Loop </a>\n",
    "While loop is used to repeat code as long as the condition is true. When the logical expression is false, the code will finish executing. [More Info](https://python101.pythonlibrary.org/chapter5_loops.html)"
   ]
  },
  {
   "cell_type": "markdown",
   "metadata": {},
   "source": [
    "### 4.4.1. <a id='4.4.1.'> Structure </a>\n",
    "\n",
    "while <font color='green'>condition</font>: <br>\n",
    "&nbsp;&nbsp;&nbsp;&nbsp;&nbsp;&nbsp;code 1<br><br>\n",
    "&nbsp;&nbsp;&nbsp;&nbsp;&nbsp;&nbsp;<font color='red'>break code</font><br><br>\n",
    "\n",
    "The break code is an expression that allows the logical condition to be false at some point, because if not, the code will continue to execute infinitely."
   ]
  },
  {
   "cell_type": "code",
   "execution_count": null,
   "metadata": {},
   "outputs": [],
   "source": [
    "i = 1\n",
    "i"
   ]
  },
  {
   "cell_type": "code",
   "execution_count": null,
   "metadata": {},
   "outputs": [],
   "source": [
    "i += 2\n",
    "i"
   ]
  },
  {
   "cell_type": "code",
   "execution_count": null,
   "metadata": {},
   "outputs": [],
   "source": [
    "i += 3\n",
    "i"
   ]
  },
  {
   "cell_type": "code",
   "execution_count": null,
   "metadata": {},
   "outputs": [],
   "source": [
    "i = 1\n",
    "\n",
    "while i<=10:\n",
    "    print(i)\n",
    "    \n",
    "    # breakcode\n",
    "    i += 1"
   ]
  },
  {
   "cell_type": "code",
   "execution_count": null,
   "metadata": {},
   "outputs": [],
   "source": [
    "i = 1\n",
    "\n",
    "while i < 10:\n",
    "    print(i)\n",
    "    \n",
    "    # break code \n",
    "    i += 1\n",
    "    print(\"now i is \", i)"
   ]
  },
  {
   "cell_type": "markdown",
   "metadata": {},
   "source": [
    "#### Excersice\n",
    "1. Print $2^n$, but the result is less than 10,000."
   ]
  },
  {
   "cell_type": "code",
   "execution_count": null,
   "metadata": {},
   "outputs": [],
   "source": [
    "x = 2\n",
    "\n",
    "while x < 10000:\n",
    "    print(x)\n",
    "    \n",
    "    # break code\n",
    "    x = 2*x\n",
    "    print(\"now i is \", x)"
   ]
  },
  {
   "cell_type": "markdown",
   "metadata": {},
   "source": [
    "2. A teacher has 100 apples for his entire class. The first student took four apples, and the next student always took more apples than the previous one. How many children have apples?"
   ]
  },
  {
   "cell_type": "code",
   "execution_count": null,
   "metadata": {},
   "outputs": [],
   "source": [
    "apples = 100\n",
    "\n",
    "# Break code iterator  \n",
    "last_st = 4\n",
    "\n",
    "# Iterator for number of students \n",
    "i = 1\n",
    "\n",
    "while apples > last_st:\n",
    "    \n",
    "    apples = apples - last_st\n",
    "    \n",
    "    # break code\n",
    "    last_st += 1\n",
    "    \n",
    "     # Count students \n",
    "    i += 1\n",
    "    \n",
    "    print ( f'{i-1} children have apples'+ f' and there are {apples} apples left')\n",
    "    # print( f'This number is {number}' )"
   ]
  },
  {
   "cell_type": "markdown",
   "metadata": {},
   "source": [
    "3. Print all elements of an array."
   ]
  },
  {
   "cell_type": "code",
   "execution_count": null,
   "metadata": {},
   "outputs": [],
   "source": [
    "import numpy as np\n",
    "\n",
    "edad = np.array([ 3, 6, 7, 10, 15, 17, 18, 31, 26, 88 , 100, 120, 110])\n",
    "i = 0\n",
    "\n",
    "while i < edad.size:\n",
    "    \n",
    "    print(edad[i])\n",
    "    i += 1"
   ]
  },
  {
   "cell_type": "markdown",
   "metadata": {},
   "source": [
    "4. While loop Excersice"
   ]
  },
  {
   "cell_type": "code",
   "execution_count": null,
   "metadata": {},
   "outputs": [],
   "source": [
    "quarantine_days = 1\n",
    "stress_level = 2\n",
    "\n",
    "\n",
    "while quarantine_days <= 40:\n",
    "    \n",
    "    print ( f'Quarantine day n° {quarantine_days}. ')\n",
    "    \n",
    "    if stress_level> 100:\n",
    "        print (f'Her family let Rebeca out on the day {quarantine_days}.')\n",
    "        stress_level = 1\n",
    "        break\n",
    "     \n",
    "    elif quarantine_days <15:\n",
    "        \n",
    "        print (\"Rebeca watch Love Alarm\")\n",
    "    \n",
    "    elif (quarantine_days >= 15) & (quarantine_days <20):\n",
    "        \n",
    "        print (\"Rebeca reads El mundo de Sofia and Cronicas de una muerte anunciada\")\n",
    "    \n",
    "    elif (quarantine_days >= 20) & (quarantine_days <40):\n",
    "        print ('Rebeca builds her Foundation of Analysis I class')\n",
    "        \n",
    "    else:\n",
    "        print (\"The lady works out\")\n",
    "    \n",
    "    print (f'The day number {quarantine_days} of quarantine is over. \\n ')\n",
    "    \n",
    "    # Days increase\n",
    "    quarantine_days = quarantine_days + 1\n",
    "    stress_level = stress_level * 2\n",
    "\n",
    "print (\"Quarantine is over.\")"
   ]
  },
  {
   "cell_type": "markdown",
   "metadata": {},
   "source": [
    "5. Pandas with While loop"
   ]
  },
  {
   "cell_type": "code",
   "execution_count": null,
   "metadata": {},
   "outputs": [],
   "source": [
    "import pandas as pd\n",
    "data1 = {'names': ['Martins', 'Raul', 'Estremadoyro', \"Kante\", 'Tigo', 'Betson', 'Finado', 'Alex', 'Miracles', 'Bambi'], \n",
    "     'age': [23, 25, 36, 78, 90, 32, 200, 24, 12, 18]}\n",
    "people = pd.DataFrame( data = data1)\n",
    "people"
   ]
  },
  {
   "cell_type": "code",
   "execution_count": null,
   "metadata": {},
   "outputs": [],
   "source": [
    "i = 0\n",
    "# row by row\n",
    "nrows = people.age.count()\n",
    "while i < nrows:\n",
    "  \n",
    "    if people['age'][i] > 150:\n",
    "        print('Ohhh no a phantom')\n",
    "        break\n",
    "    \n",
    "    elif people['age'][i] < 18:\n",
    "        # New column\n",
    "        people.loc[[i], [\"pass\"]] = \"No pass\"\n",
    "    \n",
    "    else:\n",
    "        people.loc[[i], [\"pass\"]] = \"Pass\"\n",
    "        \n",
    "    i += 1"
   ]
  },
  {
   "cell_type": "markdown",
   "metadata": {},
   "source": [
    "## 4.5. <a id = '4.5.'> References </a>\n",
    "\n",
    "1. [DataCamp](https://www.datacamp.com/community/tutorials/python-if-elif-else?utm_source=adwords_ppc&utm_medium=cpc&utm_campaignid=1455363063&utm_adgroupid=65083631748&utm_device=c&utm_keyword=&utm_matchtype=b&utm_network=g&utm_adpostion=&utm_creative=332602034358&utm_targetid=dsa-429603003980&utm_loc_interest_ms=&utm_loc_physical_ms=9060932&gclid=CjwKCAiA7dKMBhBCEiwAO_crFCArGqe0fxSaO2q6eTaTtigeALef5CcM1hRWgNI8hMEoVCg-uOwFDhoCu1kQAvD_BwE)\n",
    "2. https://www.programiz.com/python-programming/if-elif-else\n",
    "3. https://www.guru99.com/if-loop-python-conditional-structures.html\n",
    "4. https://www.w3schools.com/python/python_for_loops.asp\n",
    "5. https://www.programiz.com/python-programming/for-loop\n",
    "6. https://www.geeksforgeeks.org/loops-in-python/\n",
    "7. https://www.w3schools.com/python/python_while_loops.asp\n",
    "8. https://www.programiz.com/python-programming/while-loop\n",
    "9. https://www.tutorialspoint.com/python/python_while_loop.htm"
   ]
  },
  {
   "cell_type": "code",
   "execution_count": null,
   "metadata": {},
   "outputs": [],
   "source": []
  }
 ],
 "metadata": {
  "hide_input": false,
  "kernelspec": {
   "display_name": "Python 3 (ipykernel)",
   "language": "python",
   "name": "python3"
  },
  "language_info": {
   "codemirror_mode": {
    "name": "ipython",
    "version": 3
   },
   "file_extension": ".py",
   "mimetype": "text/x-python",
   "name": "python",
   "nbconvert_exporter": "python",
   "pygments_lexer": "ipython3",
   "version": "3.11.7"
  },
  "toc": {
   "base_numbering": 1,
   "nav_menu": {},
   "number_sections": true,
   "sideBar": true,
   "skip_h1_title": false,
   "title_cell": "Table of Contents",
   "title_sidebar": "Contents",
   "toc_cell": false,
   "toc_position": {},
   "toc_section_display": true,
   "toc_window_display": false
  }
 },
 "nbformat": 4,
 "nbformat_minor": 4
}

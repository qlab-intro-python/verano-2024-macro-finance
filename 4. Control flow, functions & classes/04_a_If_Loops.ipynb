{
 "cells": [
  {
   "cell_type": "markdown",
   "metadata": {},
   "source": [
    "# Flow Control (Control de flujos)"
   ]
  },
  {
   "cell_type": "markdown",
   "metadata": {},
   "source": [
    "- El flow control se refiere a **cómo** queremos que nuestras instrucciones (programa) se ejecuten\n",
    "- **cómo** : se refiere, principalmente, al **_orden_** que queremos que tengan nuestros statements y las **_condiciones_** bajo las que queremos que se ejecuten\n",
    "- Por ejemplo, muchas veces no necesitamos que _todas las líneas_ de nuestras instrucciones se ejecuten. Dependiendo de ciertas condicionalidades, algunas instrucciones se activarán y otras no"
   ]
  },
  {
   "cell_type": "markdown",
   "metadata": {},
   "source": [
    "<img src=\"img/ctrl_1.png\" width=\"300\">"
   ]
  },
  {
   "cell_type": "code",
   "execution_count": 3,
   "metadata": {
    "hide_input": true
   },
   "outputs": [],
   "source": [
    "import numpy as np\n",
    "import pandas as pd"
   ]
  },
  {
   "cell_type": "markdown",
   "metadata": {},
   "source": [
    "# 4. If and Loops"
   ]
  },
  {
   "cell_type": "markdown",
   "metadata": {},
   "source": [
    "- <a href='#def'>4.1. If condition</a>\n",
    "     - <a href='#4.1.1.'>4.1.1. The structure of the code </a> \n",
    "     - <a href='#4.1.2.'>4.1.2. Adding ```else```</a> \n",
    "     - <a href='#4.1.3.'>4.1.3. Difference between ```elif``` and ```if``` </a> \n",
    "     - <a href='#4.1.4.'>4.1.4. Logical Operators </a> \n",
    "     - <a href='#4.1.5.'>4.1.5. Identity operators </a> \n",
    "     - <a href='#4.1.6.'>4.1.6. Nested ```if``` statement </a>  \n",
    "- <a href='#4.2.'>4.2. For Loops </a> \n",
    "     - <a href='#4.2.1.'>4.2.1. In numpy </a> \n",
    "     - <a href='#4.2.2.'> 4.2.2. In List </a> \n",
    "     - <a href='#4.2.3.'> 4.2.3. In Dictionary </a> \n",
    "     - <a href='#4.2.4.'> 4.2.4. For loop using range</a>\n",
    "     - <a href='#4.2.5.'> 4.2.5. Nested For Loop</a>\n",
    "     - <a href='#4.2.6.'> 4.2.6. Iterations over Pandas</a>\n",
    "- <a href='#4.3.'> 4.3. Pass, Continue, Break, Try</a>\n",
    "     - <a href='#4.3.1.'>4.3.1. Pass</a>\n",
    "     - <a href='#4.3.2.'>4.3.2. Continue</a>\n",
    "     - <a href='#4.3.3.'>4.3.3. Break</a>\n",
    "     - <a href='#4.3.4.'>4.3.4. Try </a>\n",
    "     \n",
    "- <a href='#4.4.'>4.4. While Loop </a>\n",
    "     - <a href='#4.4.1.'>4.4.1. Structure </a>\n",
    "- <a href='#4.5.'>4.5. References </a>  "
   ]
  },
  {
   "cell_type": "markdown",
   "metadata": {},
   "source": [
    "## 4.1. <a id='def'> If statements </a>\n",
    "\n",
    "Los statements condifionales (if statements) nos permiten realizar cosas basadas en una condicionalidad.\n",
    "\n",
    "La estructura general de un statement condicional es la siguiente:  \n",
    "\n",
    "```python\n",
    "if condition <boolean>:\n",
    "        <conditional statement>\n",
    "else:\n",
    "        <another conditional statement>\n",
    "```\n",
    "\n",
    "Boolean:\n",
    "\n",
    "- Equals: a == b\n",
    "- Not Equals: a != b\n",
    "- Less than: a < b\n",
    "- Less than or equal to: a <= b\n",
    "- Greater than: a > b\n",
    "- Greater than or equal to: a >= b"
   ]
  },
  {
   "cell_type": "markdown",
   "metadata": {},
   "source": [
    "## 4.1.1.  <a id='4.1.1.'> The structure of the code </a> <br>\n",
    "\n",
    "<font size=\"4\">\n",
    "if <font color='green'>test expresion</font>:<br>\n",
    "&nbsp;&nbsp;&nbsp;&nbsp;Code to excute<br>\n",
    "</font>\n",
    "\n",
    "The **if** statement tests the veracity of a logic expression. The result of test statement should be a **<font color='red'>boolean</font>**. In other words, the output of the test statemen must be **<font color='red'>True</font>** or **<font color='red'>False</font>**. To sum, any function that its output is **boolean** can be used as a test expression in the **if** function. "
   ]
  },
  {
   "cell_type": "markdown",
   "metadata": {},
   "source": [
    "#### Examples"
   ]
  },
  {
   "cell_type": "code",
   "execution_count": 8,
   "metadata": {},
   "outputs": [
    {
     "name": "stdout",
     "output_type": "stream",
     "text": [
      "x is greater than 1\n",
      "This is printed anyway since it´s out of the indented block\n"
     ]
    }
   ],
   "source": [
    "x = 5 \n",
    "if x > 1:\n",
    "    print(\"x is greater than 1\")\n",
    "print(\"This is printed anyway since it´s out of the indented block\")"
   ]
  },
  {
   "cell_type": "code",
   "execution_count": 28,
   "metadata": {},
   "outputs": [
    {
     "name": "stdout",
     "output_type": "stream",
     "text": [
      "Es par\n"
     ]
    }
   ],
   "source": [
    "x = 46\n",
    "if  x % 2 == 0: \n",
    "    print (\"Es par\")\n",
    "else:\n",
    "    print(\"Es impar\")"
   ]
  },
  {
   "cell_type": "markdown",
   "metadata": {},
   "source": [
    "### 4.1.2.   <a id='4.1.2.'> Adding ```else``` </a> "
   ]
  },
  {
   "cell_type": "markdown",
   "metadata": {},
   "source": [
    "The ```else``` statement is evalueted when ```if``` is false"
   ]
  },
  {
   "cell_type": "code",
   "execution_count": 29,
   "metadata": {},
   "outputs": [
    {
     "name": "stdout",
     "output_type": "stream",
     "text": [
      "non-positive number\n"
     ]
    }
   ],
   "source": [
    "x = -5\n",
    "\n",
    "if x > 0:\n",
    "    print(\"positive number\")\n",
    "else:\n",
    "    print(\"non-positive number\")         "
   ]
  },
  {
   "cell_type": "markdown",
   "metadata": {},
   "source": [
    "### 4.1.2.   <a id='4.1.2.'> Adding ```elif``` </a> "
   ]
  },
  {
   "cell_type": "markdown",
   "metadata": {},
   "source": [
    "The ```elif``` works before ```else``` evaluating conditions after ```if``` isn´t satisfied. The ```elif``` are mutually exclusive"
   ]
  },
  {
   "cell_type": "code",
   "execution_count": 30,
   "metadata": {},
   "outputs": [
    {
     "name": "stdout",
     "output_type": "stream",
     "text": [
      "negative number\n"
     ]
    }
   ],
   "source": [
    "x = -5\n",
    "\n",
    "if x > 0:\n",
    "    print(\"positive number\")\n",
    "elif x == 0:\n",
    "    print(\"zero\")\n",
    "else:\n",
    "    print(\"negative number\")         "
   ]
  },
  {
   "cell_type": "markdown",
   "metadata": {},
   "source": [
    "### 4.1.3.   <a id='4.1.3.'> Difference between ```elif``` and ```if``` </a> "
   ]
  },
  {
   "cell_type": "markdown",
   "metadata": {},
   "source": [
    "Both ```elif``` and  ```else``` indicates that under the satisfaction of condition, control flow is end up. However, the ```if``` will continue evaluating conditions"
   ]
  },
  {
   "cell_type": "code",
   "execution_count": 31,
   "metadata": {},
   "outputs": [
    {
     "name": "stdout",
     "output_type": "stream",
     "text": [
      "número positivo\n",
      "número > 4\n",
      "número mayor a 10000\n"
     ]
    }
   ],
   "source": [
    "x = 1000000\n",
    "\n",
    "if x > 0:  \n",
    "    print(\"número positivo\")\n",
    "if x > 4:                    # if\n",
    "    print(\"número > 4\")\n",
    "if x > 10000:                # if\n",
    "    print(\"número mayor a 10000\")\n",
    "else:\n",
    "    print(\"no imprime porque no llega hasta aquí\")"
   ]
  },
  {
   "cell_type": "code",
   "execution_count": 33,
   "metadata": {},
   "outputs": [
    {
     "name": "stdout",
     "output_type": "stream",
     "text": [
      "número positivo\n"
     ]
    }
   ],
   "source": [
    "x = 1000000\n",
    "\n",
    "if x > 0:\n",
    "    print(\"número positivo\")\n",
    "elif x > 4:                  # elif\n",
    "    print(\"número > 4\")\n",
    "elif x > 10000:              # elif\n",
    "    print(\"número mayor a 10000\")\n",
    "else:\n",
    "    print(\"este statement no se imprime\")"
   ]
  },
  {
   "cell_type": "markdown",
   "metadata": {},
   "source": [
    "The lamp example describes ```elif``` conditions: after the lamp is pluged-in, the lamp is turned-on"
   ]
  },
  {
   "cell_type": "markdown",
   "metadata": {},
   "source": [
    "<img src=\"img/ctrl_2.png\" width=\"300\">"
   ]
  },
  {
   "cell_type": "markdown",
   "metadata": {},
   "source": [
    "In code:"
   ]
  },
  {
   "cell_type": "code",
   "execution_count": 34,
   "metadata": {},
   "outputs": [
    {
     "name": "stdout",
     "output_type": "stream",
     "text": [
      "enchufar la lámpara\n"
     ]
    }
   ],
   "source": [
    "lampara_desenchufada = True\n",
    "foco_no_quemado = True\n",
    "lampara_malograda = True\n",
    "\n",
    "if lampara_desenchufada:\n",
    "    print(\"enchufar la lámpara\")\n",
    "elif foco_no_quemado:\n",
    "    print(\"cambiar foco\")\n",
    "elif lampara_malograda:\n",
    "    print(\"reparar lámpara\")\n",
    "else:\n",
    "    print(\"ya cambia  tu lámpara ya\")\n",
    "    "
   ]
  },
  {
   "cell_type": "markdown",
   "metadata": {},
   "source": [
    "Under the ```if```, is will be:"
   ]
  },
  {
   "cell_type": "markdown",
   "metadata": {},
   "source": [
    "<img src=\"img/ctrl_2.png\" width=\"300\">"
   ]
  },
  {
   "cell_type": "code",
   "execution_count": 35,
   "metadata": {},
   "outputs": [
    {
     "name": "stdout",
     "output_type": "stream",
     "text": [
      "enchufar la lampara\n",
      "cambiar foco\n",
      "reparar lámpara\n"
     ]
    }
   ],
   "source": [
    "lampara_desenchufada = True\n",
    "foco_no_quemado = True\n",
    "lampara_malograda = True\n",
    "\n",
    "if lampara_desenchufada:\n",
    "    print(\"enchufar la lampara\")\n",
    "if foco_no_quemado:\n",
    "    print(\"cambiar foco\")\n",
    "if lampara_malograda:\n",
    "    print(\"reparar lámpara\")\n",
    "else:\n",
    "    print(\"ya cambia tu lámpara ya\")"
   ]
  },
  {
   "cell_type": "markdown",
   "metadata": {},
   "source": [
    "### 4.1.4.   <a id='4.1.4.'> [Logical Operators](https://www.geeksforgeeks.org/python-logical-operators-with-examples-improvement-needed/) </a> \n",
    "\n",
    "\n",
    "Three key logical operators: **<font color = 'red' >and</font>**, **<font color = 'red' > or</font>**, and **<font color = 'red' > not</font>**."
   ]
  },
  {
   "cell_type": "code",
   "execution_count": 36,
   "metadata": {},
   "outputs": [
    {
     "data": {
      "text/plain": [
       "True"
      ]
     },
     "execution_count": 36,
     "metadata": {},
     "output_type": "execute_result"
    }
   ],
   "source": [
    "6>5 and 7>3"
   ]
  },
  {
   "cell_type": "code",
   "execution_count": 39,
   "metadata": {},
   "outputs": [
    {
     "name": "stdout",
     "output_type": "stream",
     "text": [
      "When neither condition is true, this phrase is printed.\n"
     ]
    }
   ],
   "source": [
    "A = 20\n",
    "B = 25\n",
    "C = 25\n",
    "\n",
    "if ( A == B ) and ( A < C ):\n",
    "     print ('A is equal to B and less than C. Condition 1 is true.')\n",
    "    \n",
    "elif ( A > B ) or ( A > C ):\n",
    "     print ('A is greater than B or greater than C. Condition 2 is true.')\n",
    "\n",
    "elif ( B > C ) and ( B > A ):\n",
    "     print ('B is greater than C and greater than A. Condition 3 is true.')\n",
    "    \n",
    "else:\n",
    "     print ('When neither condition is true, this phrase is printed.')"
   ]
  },
  {
   "cell_type": "markdown",
   "metadata": {},
   "source": [
    "### 4.1.5.   <a id='4.1.5.'> [Identity Operators](https://www.w3schools.com/python/gloss_python_identity_operators.asp) </a> \n",
    "\n",
    "These operators help us to compare whether variables refer to the same object.\n",
    "We have **<font color = 'red' >is</font>**, and **<font color = 'red' > is not</font>** as identity operators."
   ]
  },
  {
   "cell_type": "code",
   "execution_count": 40,
   "metadata": {},
   "outputs": [],
   "source": [
    "C = None\n",
    "C"
   ]
  },
  {
   "cell_type": "code",
   "execution_count": 41,
   "metadata": {},
   "outputs": [
    {
     "name": "stdout",
     "output_type": "stream",
     "text": [
      "Ohh C is None :(\n"
     ]
    }
   ],
   "source": [
    "if C is None:\n",
    "    print( 'Ohh C is None :(')"
   ]
  },
  {
   "cell_type": "code",
   "execution_count": 42,
   "metadata": {},
   "outputs": [
    {
     "name": "stdout",
     "output_type": "stream",
     "text": [
      "C is not a float\n"
     ]
    }
   ],
   "source": [
    "if C is not float:\n",
    "    print( 'C is not a float')"
   ]
  },
  {
   "cell_type": "code",
   "execution_count": 44,
   "metadata": {},
   "outputs": [
    {
     "data": {
      "text/plain": [
       "True"
      ]
     },
     "execution_count": 44,
     "metadata": {},
     "output_type": "execute_result"
    }
   ],
   "source": [
    "9 not in [1,2,3,4]"
   ]
  },
  {
   "cell_type": "markdown",
   "metadata": {},
   "source": [
    "You can also review Memebership operators ```is```"
   ]
  },
  {
   "cell_type": "markdown",
   "metadata": {},
   "source": [
    "#### Difference between **<font color = 'red' > ==</font>** and **<font color = 'red' > is</font>** operator in Python\n",
    "\n",
    "1. **<font color = 'red' > ==</font>** operator compares the **values** of both the operands and checks for value equality.\n",
    "2. **<font color = 'red' > is</font>** operator checks whether both the operands refer to the same **object** or not (present in the same memory location)."
   ]
  },
  {
   "cell_type": "code",
   "execution_count": 45,
   "metadata": {},
   "outputs": [
    {
     "name": "stdout",
     "output_type": "stream",
     "text": [
      "True\n"
     ]
    }
   ],
   "source": [
    "a = 5\n",
    "b = 5\n",
    "print(a is b)"
   ]
  },
  {
   "cell_type": "code",
   "execution_count": 49,
   "metadata": {},
   "outputs": [
    {
     "name": "stdout",
     "output_type": "stream",
     "text": [
      "[0 1 2 3] [0 1 2 3]\n",
      "[ True  True  True  True]\n",
      "False\n",
      "4561809360\n",
      "4561810608\n"
     ]
    }
   ],
   "source": [
    "a = np.arange(0, 4)\n",
    "b = np.array( [0, 1 , 2 , 3 ] )\n",
    "print(a,b)\n",
    "print(a == b)\n",
    "print(a is b)\n",
    "print(id(a))\n",
    "print(id(b))"
   ]
  },
  {
   "cell_type": "markdown",
   "metadata": {},
   "source": [
    "### 4.1.6.   <a id='4.1.6.'> Nested ```if``` statement </a> "
   ]
  },
  {
   "cell_type": "code",
   "execution_count": 51,
   "metadata": {},
   "outputs": [
    {
     "name": "stdout",
     "output_type": "stream",
     "text": [
      "Shipping Costs $5\n"
     ]
    }
   ],
   "source": [
    "total = 120\n",
    "country = \"PE\"\n",
    "#country = \"AR\"\n",
    "\n",
    "if country == \"PE\":\n",
    "    if total <= 50:\n",
    "        print(\"Shipping Cost is  $50\")\n",
    "    elif total <= 100:\n",
    "        print(\"Shipping Cost is $25\")\n",
    "    elif total <= 150:\n",
    "        print(\"Shipping Costs $5\")\n",
    "    else:\n",
    "        print(\"FREE\")\n",
    "    \n",
    "if country == \"AR\": \n",
    "    if total <= 50:\n",
    "        print(\"Shipping Cost is  $100\")\n",
    "    else:\n",
    "        print(\"FREE\")"
   ]
  },
  {
   "cell_type": "markdown",
   "metadata": {},
   "source": [
    "## 4.2.   <a id='4.2.'> For Loops </a> \n",
    "\n",
    "\n",
    "A for loop is used for **iterating** over a sequence. It executes a code a definite number of times."
   ]
  },
  {
   "cell_type": "markdown",
   "metadata": {},
   "source": [
    "```for``` structure:\n",
    "\n",
    "```python\n",
    "for value in <group of values>:\n",
    "    do something\n",
    "\n",
    "```"
   ]
  },
  {
   "cell_type": "markdown",
   "metadata": {},
   "source": [
    "### 4.2.1. <a id='4.2.1.'> In NumPy & lists </a> "
   ]
  },
  {
   "cell_type": "code",
   "execution_count": 52,
   "metadata": {},
   "outputs": [
    {
     "data": {
      "text/plain": [
       "array([15, 20, 25, 30, 35, 40, 50])"
      ]
     },
     "execution_count": 52,
     "metadata": {},
     "output_type": "execute_result"
    }
   ],
   "source": [
    "sequence = np.array( [15, 20, 25, 30 , 35 , 40 , 50 ] )\n",
    "sequence"
   ]
  },
  {
   "cell_type": "code",
   "execution_count": 54,
   "metadata": {},
   "outputs": [
    {
     "name": "stdout",
     "output_type": "stream",
     "text": [
      "225\n",
      "400\n",
      "625\n",
      "900\n",
      "1225\n",
      "1600\n",
      "2500\n"
     ]
    }
   ],
   "source": [
    "for number in sequence:\n",
    "    # print(number)\n",
    "    square = number**2\n",
    "    print(square)"
   ]
  },
  {
   "cell_type": "code",
   "execution_count": 57,
   "metadata": {},
   "outputs": [
    {
     "name": "stdout",
     "output_type": "stream",
     "text": [
      "15 16\n",
      "20 22\n",
      "25 28\n",
      "30 34\n",
      "35 40\n",
      "40 46\n",
      "50 57\n"
     ]
    }
   ],
   "source": [
    "i = 0\n",
    "for element in sequence:\n",
    "    i += 1\n",
    "    print( element, element + i)"
   ]
  },
  {
   "cell_type": "markdown",
   "metadata": {},
   "source": [
    "Please, when iterating, don´t modify the original list "
   ]
  },
  {
   "cell_type": "code",
   "execution_count": 58,
   "metadata": {},
   "outputs": [
    {
     "name": "stdout",
     "output_type": "stream",
     "text": [
      "[5, 17, 33, 60]\n",
      "[5, 17, 33]\n"
     ]
    },
    {
     "ename": "IndexError",
     "evalue": "pop index out of range",
     "output_type": "error",
     "traceback": [
      "\u001b[0;31m---------------------------------------------------------------------------\u001b[0m",
      "\u001b[0;31mIndexError\u001b[0m                                Traceback (most recent call last)",
      "Cell \u001b[0;32mIn[58], line 3\u001b[0m\n\u001b[1;32m      1\u001b[0m ages \u001b[38;5;241m=\u001b[39m [\u001b[38;5;241m5\u001b[39m, \u001b[38;5;241m17\u001b[39m, \u001b[38;5;241m33\u001b[39m, \u001b[38;5;241m45\u001b[39m, \u001b[38;5;241m60\u001b[39m]\n\u001b[1;32m      2\u001b[0m \u001b[38;5;28;01mfor\u001b[39;00m elem \u001b[38;5;129;01min\u001b[39;00m ages:\n\u001b[0;32m----> 3\u001b[0m     \u001b[43mages\u001b[49m\u001b[38;5;241;43m.\u001b[39;49m\u001b[43mpop\u001b[49m\u001b[43m(\u001b[49m\u001b[38;5;241;43m3\u001b[39;49m\u001b[43m)\u001b[49m   \u001b[38;5;66;03m#### DON'T DO THIS\u001b[39;00m\n\u001b[1;32m      4\u001b[0m     \u001b[38;5;28mprint\u001b[39m(ages)\n",
      "\u001b[0;31mIndexError\u001b[0m: pop index out of range"
     ]
    }
   ],
   "source": [
    "ages = [5, 17, 33, 45, 60]\n",
    "for elem in ages:\n",
    "    ages.pop(3)   #### DON'T DO THIS\n",
    "    print(ages)"
   ]
  },
  {
   "cell_type": "markdown",
   "metadata": {},
   "source": [
    "Instead, create a new list"
   ]
  },
  {
   "cell_type": "code",
   "execution_count": 62,
   "metadata": {},
   "outputs": [
    {
     "name": "stdout",
     "output_type": "stream",
     "text": [
      "[10, 22, 38, 50, 65]\n",
      "[5, 17, 33, 45, 60]\n"
     ]
    }
   ],
   "source": [
    "ages = [5, 17, 33, 45, 60]\n",
    "\n",
    "new_lst = []\n",
    "\n",
    "for edad in ages:\n",
    "    edad +=5\n",
    "    new_lst.append(edad) \n",
    "print(new_lst)\n",
    "print(ages) "
   ]
  },
  {
   "cell_type": "markdown",
   "metadata": {},
   "source": [
    "### 4.2.3  <a id='4.2.3.'>In Dictionary </a> "
   ]
  },
  {
   "cell_type": "code",
   "execution_count": 65,
   "metadata": {},
   "outputs": [],
   "source": [
    "class_1 = { \"students\" : ['Miguel', 'Anthony', 'Paul', 'Rodrigo', 'Jason'] , \n",
    "           \"age\" : [20, 18, 15, 20, 22] }"
   ]
  },
  {
   "cell_type": "code",
   "execution_count": 72,
   "metadata": {},
   "outputs": [
    {
     "data": {
      "text/plain": [
       "['Miguel', 'Anthony', 'Paul', 'Rodrigo', 'Jason']"
      ]
     },
     "execution_count": 72,
     "metadata": {},
     "output_type": "execute_result"
    }
   ],
   "source": [
    "class_1[\"students\"]"
   ]
  },
  {
   "cell_type": "code",
   "execution_count": 67,
   "metadata": {},
   "outputs": [
    {
     "name": "stdout",
     "output_type": "stream",
     "text": [
      "20\n",
      "18\n",
      "15\n",
      "20\n",
      "22\n"
     ]
    }
   ],
   "source": [
    " for val in class_1[\"age\"]:\n",
    "         print (val)"
   ]
  },
  {
   "cell_type": "code",
   "execution_count": 70,
   "metadata": {},
   "outputs": [
    {
     "data": {
      "text/plain": [
       "dict_keys(['students', 'age'])"
      ]
     },
     "execution_count": 70,
     "metadata": {},
     "output_type": "execute_result"
    }
   ],
   "source": [
    "class_1.keys()"
   ]
  },
  {
   "cell_type": "code",
   "execution_count": 68,
   "metadata": {},
   "outputs": [
    {
     "name": "stdout",
     "output_type": "stream",
     "text": [
      "['Miguel', 'Anthony', 'Paul', 'Rodrigo', 'Jason']\n",
      "[20, 18, 15, 20, 22]\n"
     ]
    }
   ],
   "source": [
    "for val in class_1.values():\n",
    "    print( val )"
   ]
  },
  {
   "cell_type": "code",
   "execution_count": 73,
   "metadata": {},
   "outputs": [
    {
     "name": "stdout",
     "output_type": "stream",
     "text": [
      "Miguel\n",
      "Anthony\n",
      "Paul\n",
      "Rodrigo\n",
      "Jason\n",
      "20\n",
      "18\n",
      "15\n",
      "20\n",
      "22\n"
     ]
    }
   ],
   "source": [
    "for key in class_1.keys():\n",
    "    for val in class_1[key]:\n",
    "         print (val)"
   ]
  },
  {
   "cell_type": "markdown",
   "metadata": {},
   "source": [
    "### 4.2.4 <a id = '4.2.4.'>  For loop using range </a>"
   ]
  },
  {
   "cell_type": "code",
   "execution_count": 75,
   "metadata": {},
   "outputs": [
    {
     "name": "stdout",
     "output_type": "stream",
     "text": [
      "Miguel is 20 years old.\n",
      "Anthony is 18 years old.\n",
      "Paul is 15 years old.\n",
      "Rodrigo is 20 years old.\n",
      "Jason is 22 years old.\n",
      "Yajaira is 25 years old.\n"
     ]
    }
   ],
   "source": [
    "# Class\n",
    "students = ['Miguel', 'Anthony', 'Paul', 'Rodrigo', 'Jason', 'Yajaira']\n",
    "\n",
    "# Ages\n",
    "ages = [20, 18, 15, 20, 22, 25]\n",
    "\n",
    "range(0, len(students))\n",
    "\n",
    "for index in range (0, len (students)):\n",
    "     print ( f'{ students[index] } is { ages[index] } years old.' )"
   ]
  },
  {
   "cell_type": "code",
   "execution_count": 78,
   "metadata": {},
   "outputs": [
    {
     "name": "stdout",
     "output_type": "stream",
     "text": [
      "<enumerate object at 0x10feab920>\n"
     ]
    }
   ],
   "source": [
    "print(enumerate( students ))"
   ]
  },
  {
   "cell_type": "code",
   "execution_count": 79,
   "metadata": {},
   "outputs": [
    {
     "name": "stdout",
     "output_type": "stream",
     "text": [
      "Miguel is 20 years old.\n",
      "Anthony is 18 years old.\n",
      "Paul is 15 years old.\n",
      "Rodrigo is 20 years old.\n",
      "Jason is 22 years old.\n",
      "Yajaira is 25 years old.\n"
     ]
    }
   ],
   "source": [
    "for i, element in enumerate( students ):\n",
    "    print ( f'{ students[i] } is { ages[i] } years old.' )"
   ]
  },
  {
   "cell_type": "markdown",
   "metadata": {},
   "source": [
    "### 4.2.5 <a id='4.2.5.'>  Nested For Loop </a>\n",
    "\n",
    "A for loop inside of another for loop."
   ]
  },
  {
   "cell_type": "code",
   "execution_count": 81,
   "metadata": {},
   "outputs": [
    {
     "data": {
      "text/plain": [
       "[[11, 12, 11], [15, 16, 16], [17, 17, 18]]"
      ]
     },
     "execution_count": 81,
     "metadata": {},
     "output_type": "execute_result"
    }
   ],
   "source": [
    "age_class = [ [11, 12, 11] , [15, 16, 16] , [17, 17, 18]]\n",
    "age_class"
   ]
  },
  {
   "cell_type": "code",
   "execution_count": 82,
   "metadata": {},
   "outputs": [
    {
     "name": "stdout",
     "output_type": "stream",
     "text": [
      "[11, 12, 11]\n",
      "11\n",
      "12\n",
      "11\n",
      "[15, 16, 16]\n",
      "15\n",
      "16\n",
      "16\n",
      "[17, 17, 18]\n",
      "17\n",
      "17\n",
      "18\n"
     ]
    }
   ],
   "source": [
    "for classs in age_class:\n",
    "    print( classs )\n",
    "    \n",
    "    for age in classs:\n",
    "        print( age )"
   ]
  },
  {
   "cell_type": "code",
   "execution_count": 88,
   "metadata": {},
   "outputs": [
    {
     "name": "stdout",
     "output_type": "stream",
     "text": [
      "Justin is 20\n",
      "Pogba is 18\n",
      "Paul is 15\n",
      "Carrillo is 20\n",
      "Xavi is 22\n"
     ]
    }
   ],
   "source": [
    "# sequence\n",
    "students = [ 'Justin' , 'Pogba', 'Paul', 'Carrillo', 'Xavi' ]\n",
    "\n",
    "# age\n",
    "gr_age = [ 20, 18, 15, 20, 22]\n",
    "\n",
    "# Loops\n",
    "for student, age in zip( students , gr_age ):\n",
    "    print(f'{ student } is { age }')"
   ]
  },
  {
   "cell_type": "code",
   "execution_count": 93,
   "metadata": {},
   "outputs": [
    {
     "name": "stdout",
     "output_type": "stream",
     "text": [
      "Justin is 20\n",
      "Pogba is 18\n",
      "Paul is 15\n",
      "Carrillo is 20\n"
     ]
    }
   ],
   "source": [
    "## Diferent dimmensions\n",
    "# sequence\n",
    "students = [ 'Justin' , 'Pogba', 'Paul', 'Carrillo', 'Xavi' ]\n",
    "\n",
    "# Edades\n",
    "gr_age = [ 20, 18, 15, 20 ]\n",
    "\n",
    "for student, age in zip( students , gr_age ):\n",
    "    print(f'{ student } is { age }')"
   ]
  },
  {
   "cell_type": "code",
   "execution_count": 94,
   "metadata": {},
   "outputs": [
    {
     "name": "stdout",
     "output_type": "stream",
     "text": [
      "if my income is S/ 10000 my taxes are S/ 800.0\n",
      "if my income is S/ 20000 my taxes are S/ 1600.0\n",
      "if my income is S/ 50000 my taxes are S/ 7000.000000000001\n",
      "if my income is S/ 120000 my taxes are S/ 20400.0\n",
      "if my income is S/ 1000000 my taxes are S/ 300000.0\n",
      "if my income is S/ 6000000 my taxes are S/ 1800000.0\n"
     ]
    }
   ],
   "source": [
    "## if + for\n",
    "income_annual = [10_000, 20_000, 50_000, 120_000, 1000000, 6_000_000]\n",
    "uit = 5150\n",
    "\n",
    "# simplificar codigo usando elif\n",
    "for income in income_annual:\n",
    "    if income <= 5 * uit:\n",
    "        impuesto = 0.08 * income\n",
    "        print(\"if my income is S/\", str(income), \"my taxes are S/\", str(impuesto))\n",
    "    elif (income > 5 * uit) & (income <= 20 * uit):\n",
    "        impuesto = 0.14 * income\n",
    "        print(\"if my income is S/\", str(income), \"my taxes are S/\", str(impuesto))\n",
    "    elif (income > 20 * uit) & (income <= 35 * uit):\n",
    "        impuesto = 0.17 * income\n",
    "        print(\"if my income is S/\", str(income), \"my taxes are S/\", str(impuesto))\n",
    "    elif (income > 35 * uit) & (income <= 45 * uit):\n",
    "        impuesto = 0.2 * income\n",
    "        print(\"if my income is S/\", str(income), \"my taxes are S/\", str(impuesto))      \n",
    "    else:\n",
    "        impuesto = 0.3 * income\n",
    "        print(\"if my income is S/\", str(income), \"my taxes are S/\", str(impuesto))"
   ]
  },
  {
   "cell_type": "markdown",
   "metadata": {},
   "source": [
    "### 4.2.6. <a id = '4.2.6.'> Iterations over Pandas</a>"
   ]
  },
  {
   "cell_type": "markdown",
   "metadata": {},
   "source": [
    "[Marine fishing extraction by destination and main species (thousands of tons)](https://estadisticas.bcrp.gob.pe/estadisticas/series/anuales/extraccion-pesquera-maritima-por-destino-y-principales-especies-miles-de-toneladas)"
   ]
  },
  {
   "cell_type": "code",
   "execution_count": 95,
   "metadata": {},
   "outputs": [],
   "source": [
    "# !conda install openpyxl"
   ]
  },
  {
   "cell_type": "code",
   "execution_count": 96,
   "metadata": {},
   "outputs": [],
   "source": [
    "import pandas as pd"
   ]
  },
  {
   "cell_type": "code",
   "execution_count": 97,
   "metadata": {},
   "outputs": [],
   "source": [
    "pesca_produccion = pd.read_excel(r\"data/pesca_produccion.xlsx\")"
   ]
  },
  {
   "cell_type": "code",
   "execution_count": 99,
   "metadata": {},
   "outputs": [
    {
     "data": {
      "text/html": [
       "<div>\n",
       "<style scoped>\n",
       "    .dataframe tbody tr th:only-of-type {\n",
       "        vertical-align: middle;\n",
       "    }\n",
       "\n",
       "    .dataframe tbody tr th {\n",
       "        vertical-align: top;\n",
       "    }\n",
       "\n",
       "    .dataframe thead th {\n",
       "        text-align: right;\n",
       "    }\n",
       "</style>\n",
       "<table border=\"1\" class=\"dataframe\">\n",
       "  <thead>\n",
       "    <tr style=\"text-align: right;\">\n",
       "      <th></th>\n",
       "      <th>Año</th>\n",
       "      <th>Consumo Industrial - Anchoveta</th>\n",
       "      <th>Consumo Humano - Congelado - Concha de abanico</th>\n",
       "      <th>Consumo Humano - Congelado - Langostino</th>\n",
       "      <th>Consumo Humano - Congelado - Merluza</th>\n",
       "      <th>Consumo Humano - Congelado - Calamar gigante</th>\n",
       "      <th>Consumo Humano - Conservas - Atún</th>\n",
       "      <th>Consumo Humano - Conservas - Caballa</th>\n",
       "      <th>Consumo Humano - Conservas - Jurel</th>\n",
       "      <th>Consumo Humano - Conservas - Sardina</th>\n",
       "      <th>Consumo Humano - Fresco - Concha de abanico</th>\n",
       "      <th>Consumo Humano - Fresco - Jurel</th>\n",
       "      <th>Consumo Humano - Fresco - Liza</th>\n",
       "      <th>Consumo Humano - Fresco - Tollo</th>\n",
       "    </tr>\n",
       "  </thead>\n",
       "  <tbody>\n",
       "    <tr>\n",
       "      <th>0</th>\n",
       "      <td>2010</td>\n",
       "      <td>3330.413040</td>\n",
       "      <td>60.001250</td>\n",
       "      <td>14.477939</td>\n",
       "      <td>25.647697</td>\n",
       "      <td>327.571909</td>\n",
       "      <td>9.182845</td>\n",
       "      <td>9.729522</td>\n",
       "      <td>5.774274</td>\n",
       "      <td>0.000000</td>\n",
       "      <td>2.824749</td>\n",
       "      <td>10.404933</td>\n",
       "      <td>9.706363</td>\n",
       "      <td>4.994712</td>\n",
       "    </tr>\n",
       "    <tr>\n",
       "      <th>1</th>\n",
       "      <td>2011</td>\n",
       "      <td>7000.092781</td>\n",
       "      <td>92.027637</td>\n",
       "      <td>23.384478</td>\n",
       "      <td>28.544458</td>\n",
       "      <td>373.195661</td>\n",
       "      <td>6.586856</td>\n",
       "      <td>20.478814</td>\n",
       "      <td>83.277943</td>\n",
       "      <td>0.054463</td>\n",
       "      <td>0.873130</td>\n",
       "      <td>72.955117</td>\n",
       "      <td>12.124808</td>\n",
       "      <td>5.687520</td>\n",
       "    </tr>\n",
       "    <tr>\n",
       "      <th>2</th>\n",
       "      <td>2012</td>\n",
       "      <td>3693.871080</td>\n",
       "      <td>38.933390</td>\n",
       "      <td>22.707220</td>\n",
       "      <td>21.054780</td>\n",
       "      <td>457.072670</td>\n",
       "      <td>1.115060</td>\n",
       "      <td>9.978510</td>\n",
       "      <td>43.693940</td>\n",
       "      <td>0.088460</td>\n",
       "      <td>0.744610</td>\n",
       "      <td>72.930470</td>\n",
       "      <td>17.162420</td>\n",
       "      <td>4.235380</td>\n",
       "    </tr>\n",
       "    <tr>\n",
       "      <th>3</th>\n",
       "      <td>2013</td>\n",
       "      <td>4754.118210</td>\n",
       "      <td>89.293284</td>\n",
       "      <td>19.111372</td>\n",
       "      <td>31.187461</td>\n",
       "      <td>410.759534</td>\n",
       "      <td>7.136436</td>\n",
       "      <td>26.600553</td>\n",
       "      <td>7.197624</td>\n",
       "      <td>0.000000</td>\n",
       "      <td>2.180252</td>\n",
       "      <td>54.454541</td>\n",
       "      <td>12.530821</td>\n",
       "      <td>3.945647</td>\n",
       "    </tr>\n",
       "    <tr>\n",
       "      <th>4</th>\n",
       "      <td>2014</td>\n",
       "      <td>2255.453460</td>\n",
       "      <td>52.266500</td>\n",
       "      <td>21.762990</td>\n",
       "      <td>30.770800</td>\n",
       "      <td>465.007580</td>\n",
       "      <td>4.734540</td>\n",
       "      <td>29.576440</td>\n",
       "      <td>8.882560</td>\n",
       "      <td>0.000000</td>\n",
       "      <td>0.608160</td>\n",
       "      <td>46.346459</td>\n",
       "      <td>12.248670</td>\n",
       "      <td>5.206880</td>\n",
       "    </tr>\n",
       "    <tr>\n",
       "      <th>5</th>\n",
       "      <td>2015</td>\n",
       "      <td>3616.481500</td>\n",
       "      <td>14.843150</td>\n",
       "      <td>26.772210</td>\n",
       "      <td>25.644130</td>\n",
       "      <td>426.932300</td>\n",
       "      <td>11.082120</td>\n",
       "      <td>15.314910</td>\n",
       "      <td>2.769796</td>\n",
       "      <td>0.164140</td>\n",
       "      <td>0.615910</td>\n",
       "      <td>17.536930</td>\n",
       "      <td>12.463520</td>\n",
       "      <td>7.717680</td>\n",
       "    </tr>\n",
       "    <tr>\n",
       "      <th>6</th>\n",
       "      <td>2016</td>\n",
       "      <td>2732.733740</td>\n",
       "      <td>10.090130</td>\n",
       "      <td>29.253750</td>\n",
       "      <td>25.800210</td>\n",
       "      <td>246.124700</td>\n",
       "      <td>10.884490</td>\n",
       "      <td>57.675170</td>\n",
       "      <td>0.412040</td>\n",
       "      <td>0.007490</td>\n",
       "      <td>0.579750</td>\n",
       "      <td>12.472050</td>\n",
       "      <td>15.757580</td>\n",
       "      <td>9.453130</td>\n",
       "    </tr>\n",
       "    <tr>\n",
       "      <th>7</th>\n",
       "      <td>2017</td>\n",
       "      <td>3165.490240</td>\n",
       "      <td>4.596090</td>\n",
       "      <td>38.760070</td>\n",
       "      <td>37.147430</td>\n",
       "      <td>252.429930</td>\n",
       "      <td>11.802750</td>\n",
       "      <td>23.249140</td>\n",
       "      <td>1.052910</td>\n",
       "      <td>0.000000</td>\n",
       "      <td>0.373700</td>\n",
       "      <td>6.889530</td>\n",
       "      <td>29.061740</td>\n",
       "      <td>6.692660</td>\n",
       "    </tr>\n",
       "    <tr>\n",
       "      <th>8</th>\n",
       "      <td>2018</td>\n",
       "      <td>6072.887839</td>\n",
       "      <td>36.530349</td>\n",
       "      <td>31.505879</td>\n",
       "      <td>34.876576</td>\n",
       "      <td>319.146488</td>\n",
       "      <td>18.138975</td>\n",
       "      <td>24.610468</td>\n",
       "      <td>14.619846</td>\n",
       "      <td>0.000000</td>\n",
       "      <td>1.551366</td>\n",
       "      <td>14.720969</td>\n",
       "      <td>23.326310</td>\n",
       "      <td>3.672117</td>\n",
       "    </tr>\n",
       "    <tr>\n",
       "      <th>9</th>\n",
       "      <td>2019</td>\n",
       "      <td>3381.437222</td>\n",
       "      <td>53.112863</td>\n",
       "      <td>42.857637</td>\n",
       "      <td>28.979849</td>\n",
       "      <td>483.765239</td>\n",
       "      <td>17.839298</td>\n",
       "      <td>19.598784</td>\n",
       "      <td>27.733432</td>\n",
       "      <td>0.000000</td>\n",
       "      <td>1.226521</td>\n",
       "      <td>40.798701</td>\n",
       "      <td>24.029820</td>\n",
       "      <td>1.241883</td>\n",
       "    </tr>\n",
       "    <tr>\n",
       "      <th>10</th>\n",
       "      <td>2020</td>\n",
       "      <td>4320.755715</td>\n",
       "      <td>47.563722</td>\n",
       "      <td>34.586938</td>\n",
       "      <td>20.249734</td>\n",
       "      <td>458.050670</td>\n",
       "      <td>2.791038</td>\n",
       "      <td>31.719238</td>\n",
       "      <td>26.717219</td>\n",
       "      <td>0.000000</td>\n",
       "      <td>0.616697</td>\n",
       "      <td>52.651767</td>\n",
       "      <td>14.992172</td>\n",
       "      <td>0.870075</td>\n",
       "    </tr>\n",
       "    <tr>\n",
       "      <th>11</th>\n",
       "      <td>2021</td>\n",
       "      <td>5170.189366</td>\n",
       "      <td>54.069829</td>\n",
       "      <td>34.011690</td>\n",
       "      <td>33.524423</td>\n",
       "      <td>477.366794</td>\n",
       "      <td>1.769770</td>\n",
       "      <td>36.027266</td>\n",
       "      <td>16.945096</td>\n",
       "      <td>0.000000</td>\n",
       "      <td>0.874488</td>\n",
       "      <td>45.794513</td>\n",
       "      <td>16.049808</td>\n",
       "      <td>1.059540</td>\n",
       "    </tr>\n",
       "    <tr>\n",
       "      <th>12</th>\n",
       "      <td>2022</td>\n",
       "      <td>4040.660670</td>\n",
       "      <td>26.129267</td>\n",
       "      <td>42.323769</td>\n",
       "      <td>26.307448</td>\n",
       "      <td>415.685156</td>\n",
       "      <td>5.754464</td>\n",
       "      <td>30.661276</td>\n",
       "      <td>35.356591</td>\n",
       "      <td>0.000000</td>\n",
       "      <td>0.376267</td>\n",
       "      <td>60.937305</td>\n",
       "      <td>8.465341</td>\n",
       "      <td>0.751410</td>\n",
       "    </tr>\n",
       "  </tbody>\n",
       "</table>\n",
       "</div>"
      ],
      "text/plain": [
       "     Año  Consumo Industrial - Anchoveta  \\\n",
       "0   2010                     3330.413040   \n",
       "1   2011                     7000.092781   \n",
       "2   2012                     3693.871080   \n",
       "3   2013                     4754.118210   \n",
       "4   2014                     2255.453460   \n",
       "5   2015                     3616.481500   \n",
       "6   2016                     2732.733740   \n",
       "7   2017                     3165.490240   \n",
       "8   2018                     6072.887839   \n",
       "9   2019                     3381.437222   \n",
       "10  2020                     4320.755715   \n",
       "11  2021                     5170.189366   \n",
       "12  2022                     4040.660670   \n",
       "\n",
       "    Consumo Humano - Congelado - Concha de abanico  \\\n",
       "0                                        60.001250   \n",
       "1                                        92.027637   \n",
       "2                                        38.933390   \n",
       "3                                        89.293284   \n",
       "4                                        52.266500   \n",
       "5                                        14.843150   \n",
       "6                                        10.090130   \n",
       "7                                         4.596090   \n",
       "8                                        36.530349   \n",
       "9                                        53.112863   \n",
       "10                                       47.563722   \n",
       "11                                       54.069829   \n",
       "12                                       26.129267   \n",
       "\n",
       "    Consumo Humano - Congelado - Langostino  \\\n",
       "0                                 14.477939   \n",
       "1                                 23.384478   \n",
       "2                                 22.707220   \n",
       "3                                 19.111372   \n",
       "4                                 21.762990   \n",
       "5                                 26.772210   \n",
       "6                                 29.253750   \n",
       "7                                 38.760070   \n",
       "8                                 31.505879   \n",
       "9                                 42.857637   \n",
       "10                                34.586938   \n",
       "11                                34.011690   \n",
       "12                                42.323769   \n",
       "\n",
       "    Consumo Humano - Congelado - Merluza  \\\n",
       "0                              25.647697   \n",
       "1                              28.544458   \n",
       "2                              21.054780   \n",
       "3                              31.187461   \n",
       "4                              30.770800   \n",
       "5                              25.644130   \n",
       "6                              25.800210   \n",
       "7                              37.147430   \n",
       "8                              34.876576   \n",
       "9                              28.979849   \n",
       "10                             20.249734   \n",
       "11                             33.524423   \n",
       "12                             26.307448   \n",
       "\n",
       "    Consumo Humano - Congelado - Calamar gigante  \\\n",
       "0                                     327.571909   \n",
       "1                                     373.195661   \n",
       "2                                     457.072670   \n",
       "3                                     410.759534   \n",
       "4                                     465.007580   \n",
       "5                                     426.932300   \n",
       "6                                     246.124700   \n",
       "7                                     252.429930   \n",
       "8                                     319.146488   \n",
       "9                                     483.765239   \n",
       "10                                    458.050670   \n",
       "11                                    477.366794   \n",
       "12                                    415.685156   \n",
       "\n",
       "    Consumo Humano - Conservas - Atún  Consumo Humano - Conservas - Caballa  \\\n",
       "0                            9.182845                              9.729522   \n",
       "1                            6.586856                             20.478814   \n",
       "2                            1.115060                              9.978510   \n",
       "3                            7.136436                             26.600553   \n",
       "4                            4.734540                             29.576440   \n",
       "5                           11.082120                             15.314910   \n",
       "6                           10.884490                             57.675170   \n",
       "7                           11.802750                             23.249140   \n",
       "8                           18.138975                             24.610468   \n",
       "9                           17.839298                             19.598784   \n",
       "10                           2.791038                             31.719238   \n",
       "11                           1.769770                             36.027266   \n",
       "12                           5.754464                             30.661276   \n",
       "\n",
       "    Consumo Humano - Conservas - Jurel  Consumo Humano - Conservas - Sardina  \\\n",
       "0                             5.774274                              0.000000   \n",
       "1                            83.277943                              0.054463   \n",
       "2                            43.693940                              0.088460   \n",
       "3                             7.197624                              0.000000   \n",
       "4                             8.882560                              0.000000   \n",
       "5                             2.769796                              0.164140   \n",
       "6                             0.412040                              0.007490   \n",
       "7                             1.052910                              0.000000   \n",
       "8                            14.619846                              0.000000   \n",
       "9                            27.733432                              0.000000   \n",
       "10                           26.717219                              0.000000   \n",
       "11                           16.945096                              0.000000   \n",
       "12                           35.356591                              0.000000   \n",
       "\n",
       "    Consumo Humano - Fresco - Concha de abanico  \\\n",
       "0                                      2.824749   \n",
       "1                                      0.873130   \n",
       "2                                      0.744610   \n",
       "3                                      2.180252   \n",
       "4                                      0.608160   \n",
       "5                                      0.615910   \n",
       "6                                      0.579750   \n",
       "7                                      0.373700   \n",
       "8                                      1.551366   \n",
       "9                                      1.226521   \n",
       "10                                     0.616697   \n",
       "11                                     0.874488   \n",
       "12                                     0.376267   \n",
       "\n",
       "    Consumo Humano - Fresco - Jurel  Consumo Humano - Fresco - Liza  \\\n",
       "0                         10.404933                        9.706363   \n",
       "1                         72.955117                       12.124808   \n",
       "2                         72.930470                       17.162420   \n",
       "3                         54.454541                       12.530821   \n",
       "4                         46.346459                       12.248670   \n",
       "5                         17.536930                       12.463520   \n",
       "6                         12.472050                       15.757580   \n",
       "7                          6.889530                       29.061740   \n",
       "8                         14.720969                       23.326310   \n",
       "9                         40.798701                       24.029820   \n",
       "10                        52.651767                       14.992172   \n",
       "11                        45.794513                       16.049808   \n",
       "12                        60.937305                        8.465341   \n",
       "\n",
       "    Consumo Humano - Fresco - Tollo  \n",
       "0                          4.994712  \n",
       "1                          5.687520  \n",
       "2                          4.235380  \n",
       "3                          3.945647  \n",
       "4                          5.206880  \n",
       "5                          7.717680  \n",
       "6                          9.453130  \n",
       "7                          6.692660  \n",
       "8                          3.672117  \n",
       "9                          1.241883  \n",
       "10                         0.870075  \n",
       "11                         1.059540  \n",
       "12                         0.751410  "
      ]
     },
     "execution_count": 99,
     "metadata": {},
     "output_type": "execute_result"
    }
   ],
   "source": [
    "pesca_produccion"
   ]
  },
  {
   "cell_type": "code",
   "execution_count": 103,
   "metadata": {},
   "outputs": [],
   "source": [
    "for index, row in pesca_produccion.iloc[ :, 1: ].iterrows():\n",
    "    pesca_produccion.at[ index, 'Max_min'] = row.max() - row.min()"
   ]
  },
  {
   "cell_type": "code",
   "execution_count": 102,
   "metadata": {},
   "outputs": [
    {
     "data": {
      "text/html": [
       "<div>\n",
       "<style scoped>\n",
       "    .dataframe tbody tr th:only-of-type {\n",
       "        vertical-align: middle;\n",
       "    }\n",
       "\n",
       "    .dataframe tbody tr th {\n",
       "        vertical-align: top;\n",
       "    }\n",
       "\n",
       "    .dataframe thead th {\n",
       "        text-align: right;\n",
       "    }\n",
       "</style>\n",
       "<table border=\"1\" class=\"dataframe\">\n",
       "  <thead>\n",
       "    <tr style=\"text-align: right;\">\n",
       "      <th></th>\n",
       "      <th>Año</th>\n",
       "      <th>Consumo Industrial - Anchoveta</th>\n",
       "      <th>Consumo Humano - Congelado - Concha de abanico</th>\n",
       "      <th>Consumo Humano - Congelado - Langostino</th>\n",
       "      <th>Consumo Humano - Congelado - Merluza</th>\n",
       "      <th>Consumo Humano - Congelado - Calamar gigante</th>\n",
       "      <th>Consumo Humano - Conservas - Atún</th>\n",
       "      <th>Consumo Humano - Conservas - Caballa</th>\n",
       "      <th>Consumo Humano - Conservas - Jurel</th>\n",
       "      <th>Consumo Humano - Conservas - Sardina</th>\n",
       "      <th>Consumo Humano - Fresco - Concha de abanico</th>\n",
       "      <th>Consumo Humano - Fresco - Jurel</th>\n",
       "      <th>Consumo Humano - Fresco - Liza</th>\n",
       "      <th>Consumo Humano - Fresco - Tollo</th>\n",
       "      <th>Max_min</th>\n",
       "    </tr>\n",
       "  </thead>\n",
       "  <tbody>\n",
       "    <tr>\n",
       "      <th>0</th>\n",
       "      <td>2010</td>\n",
       "      <td>3330.413040</td>\n",
       "      <td>60.001250</td>\n",
       "      <td>14.477939</td>\n",
       "      <td>25.647697</td>\n",
       "      <td>327.571909</td>\n",
       "      <td>9.182845</td>\n",
       "      <td>9.729522</td>\n",
       "      <td>5.774274</td>\n",
       "      <td>0.000000</td>\n",
       "      <td>2.824749</td>\n",
       "      <td>10.404933</td>\n",
       "      <td>9.706363</td>\n",
       "      <td>4.994712</td>\n",
       "      <td>3330.413040</td>\n",
       "    </tr>\n",
       "    <tr>\n",
       "      <th>1</th>\n",
       "      <td>2011</td>\n",
       "      <td>7000.092781</td>\n",
       "      <td>92.027637</td>\n",
       "      <td>23.384478</td>\n",
       "      <td>28.544458</td>\n",
       "      <td>373.195661</td>\n",
       "      <td>6.586856</td>\n",
       "      <td>20.478814</td>\n",
       "      <td>83.277943</td>\n",
       "      <td>0.054463</td>\n",
       "      <td>0.873130</td>\n",
       "      <td>72.955117</td>\n",
       "      <td>12.124808</td>\n",
       "      <td>5.687520</td>\n",
       "      <td>7000.038318</td>\n",
       "    </tr>\n",
       "    <tr>\n",
       "      <th>2</th>\n",
       "      <td>2012</td>\n",
       "      <td>3693.871080</td>\n",
       "      <td>38.933390</td>\n",
       "      <td>22.707220</td>\n",
       "      <td>21.054780</td>\n",
       "      <td>457.072670</td>\n",
       "      <td>1.115060</td>\n",
       "      <td>9.978510</td>\n",
       "      <td>43.693940</td>\n",
       "      <td>0.088460</td>\n",
       "      <td>0.744610</td>\n",
       "      <td>72.930470</td>\n",
       "      <td>17.162420</td>\n",
       "      <td>4.235380</td>\n",
       "      <td>3693.782620</td>\n",
       "    </tr>\n",
       "    <tr>\n",
       "      <th>3</th>\n",
       "      <td>2013</td>\n",
       "      <td>4754.118210</td>\n",
       "      <td>89.293284</td>\n",
       "      <td>19.111372</td>\n",
       "      <td>31.187461</td>\n",
       "      <td>410.759534</td>\n",
       "      <td>7.136436</td>\n",
       "      <td>26.600553</td>\n",
       "      <td>7.197624</td>\n",
       "      <td>0.000000</td>\n",
       "      <td>2.180252</td>\n",
       "      <td>54.454541</td>\n",
       "      <td>12.530821</td>\n",
       "      <td>3.945647</td>\n",
       "      <td>4754.118210</td>\n",
       "    </tr>\n",
       "    <tr>\n",
       "      <th>4</th>\n",
       "      <td>2014</td>\n",
       "      <td>2255.453460</td>\n",
       "      <td>52.266500</td>\n",
       "      <td>21.762990</td>\n",
       "      <td>30.770800</td>\n",
       "      <td>465.007580</td>\n",
       "      <td>4.734540</td>\n",
       "      <td>29.576440</td>\n",
       "      <td>8.882560</td>\n",
       "      <td>0.000000</td>\n",
       "      <td>0.608160</td>\n",
       "      <td>46.346459</td>\n",
       "      <td>12.248670</td>\n",
       "      <td>5.206880</td>\n",
       "      <td>2255.453460</td>\n",
       "    </tr>\n",
       "  </tbody>\n",
       "</table>\n",
       "</div>"
      ],
      "text/plain": [
       "    Año  Consumo Industrial - Anchoveta  \\\n",
       "0  2010                     3330.413040   \n",
       "1  2011                     7000.092781   \n",
       "2  2012                     3693.871080   \n",
       "3  2013                     4754.118210   \n",
       "4  2014                     2255.453460   \n",
       "\n",
       "   Consumo Humano - Congelado - Concha de abanico  \\\n",
       "0                                       60.001250   \n",
       "1                                       92.027637   \n",
       "2                                       38.933390   \n",
       "3                                       89.293284   \n",
       "4                                       52.266500   \n",
       "\n",
       "   Consumo Humano - Congelado - Langostino  \\\n",
       "0                                14.477939   \n",
       "1                                23.384478   \n",
       "2                                22.707220   \n",
       "3                                19.111372   \n",
       "4                                21.762990   \n",
       "\n",
       "   Consumo Humano - Congelado - Merluza  \\\n",
       "0                             25.647697   \n",
       "1                             28.544458   \n",
       "2                             21.054780   \n",
       "3                             31.187461   \n",
       "4                             30.770800   \n",
       "\n",
       "   Consumo Humano - Congelado - Calamar gigante  \\\n",
       "0                                    327.571909   \n",
       "1                                    373.195661   \n",
       "2                                    457.072670   \n",
       "3                                    410.759534   \n",
       "4                                    465.007580   \n",
       "\n",
       "   Consumo Humano - Conservas - Atún  Consumo Humano - Conservas - Caballa  \\\n",
       "0                           9.182845                              9.729522   \n",
       "1                           6.586856                             20.478814   \n",
       "2                           1.115060                              9.978510   \n",
       "3                           7.136436                             26.600553   \n",
       "4                           4.734540                             29.576440   \n",
       "\n",
       "   Consumo Humano - Conservas - Jurel  Consumo Humano - Conservas - Sardina  \\\n",
       "0                            5.774274                              0.000000   \n",
       "1                           83.277943                              0.054463   \n",
       "2                           43.693940                              0.088460   \n",
       "3                            7.197624                              0.000000   \n",
       "4                            8.882560                              0.000000   \n",
       "\n",
       "   Consumo Humano - Fresco - Concha de abanico  \\\n",
       "0                                     2.824749   \n",
       "1                                     0.873130   \n",
       "2                                     0.744610   \n",
       "3                                     2.180252   \n",
       "4                                     0.608160   \n",
       "\n",
       "   Consumo Humano - Fresco - Jurel  Consumo Humano - Fresco - Liza  \\\n",
       "0                        10.404933                        9.706363   \n",
       "1                        72.955117                       12.124808   \n",
       "2                        72.930470                       17.162420   \n",
       "3                        54.454541                       12.530821   \n",
       "4                        46.346459                       12.248670   \n",
       "\n",
       "   Consumo Humano - Fresco - Tollo      Max_min  \n",
       "0                         4.994712  3330.413040  \n",
       "1                         5.687520  7000.038318  \n",
       "2                         4.235380  3693.782620  \n",
       "3                         3.945647  4754.118210  \n",
       "4                         5.206880  2255.453460  "
      ]
     },
     "execution_count": 102,
     "metadata": {},
     "output_type": "execute_result"
    }
   ],
   "source": [
    "pesca_produccion.head()"
   ]
  },
  {
   "cell_type": "markdown",
   "metadata": {},
   "source": [
    "## 4.3. <a id = '4.3.'> Pass, Continue, Break, Try</a>"
   ]
  },
  {
   "cell_type": "markdown",
   "metadata": {},
   "source": [
    "Please, review this YouTube [video](https://www.youtube.com/watch?v=yCZBnjF4_tU) and also this [one](https://www.youtube.com/watch?v=JCRpVwtVL4I) for more info"
   ]
  },
  {
   "cell_type": "markdown",
   "metadata": {},
   "source": [
    "|Function|Description|\n",
    "|---|---|\n",
    "| `Pass`| Allows you to handle the condition <br> without the loop being impacted in any way|\n",
    "| `Continue`| The current iteration of the loop will be disrupted, <br> but the program will return to the top of the loop|\n",
    "| `Break`| The loop will exit|\n",
    "| `Try`| This command lets you test a block of code for errors.|\n",
    "| `Exception`| An exception is an event, which occurs during <br> the execution of a program that disrupts the normal <br> flow of the program's instructions. <br> It allows you to raise a message to help the user.|"
   ]
  },
  {
   "cell_type": "markdown",
   "metadata": {},
   "source": [
    "\n",
    "### 4.3.1 <a id = '4.3.1.'> Pass</a>"
   ]
  },
  {
   "cell_type": "code",
   "execution_count": null,
   "metadata": {},
   "outputs": [],
   "source": [
    "for number in range(10):\n",
    "    print('Number is ' + str(number))"
   ]
  },
  {
   "cell_type": "code",
   "execution_count": null,
   "metadata": {},
   "outputs": [],
   "source": [
    "a = 2\n",
    "if a == 1:\n",
    "    print(a)"
   ]
  },
  {
   "cell_type": "code",
   "execution_count": null,
   "metadata": {},
   "outputs": [],
   "source": [
    "prime = [2 , 3, 5, 7]"
   ]
  },
  {
   "cell_type": "code",
   "execution_count": null,
   "metadata": {},
   "outputs": [],
   "source": [
    "# Looking for prime numbers\n",
    "for number in range(10):\n",
    "    \n",
    "    print('Number is ' + str(number))\n",
    "    \n",
    "    if (number in prime):\n",
    "        # comment\n",
    "        # pass\n",
    "        print(\"This is a prime number\")\n",
    "\n",
    "    elif number == 3:\n",
    "        #number = number + 1\n",
    "        print( f'This number is {number}' )\n",
    "\n",
    "    else:\n",
    "        #number = number + 2\n",
    "        print('This is not a prime number' , '\\n')\n",
    "\n",
    "print('Out of loop')"
   ]
  },
  {
   "cell_type": "code",
   "execution_count": null,
   "metadata": {},
   "outputs": [],
   "source": [
    "# This is looking for prime numbers\n",
    "for number in range(10):\n",
    "    \n",
    "    print('Number is ' + str(number))\n",
    "    \n",
    "    if (number in prime):\n",
    "        # comment\n",
    "        pass\n",
    "        #print(\"This is a prime number\")\n",
    "\n",
    "    elif number == 3:\n",
    "        #number = number + 1\n",
    "        print( f'This number is {number}' )\n",
    "\n",
    "    else:\n",
    "        #number = number + 2\n",
    "        print('This is not a prime number' , '\\n')\n",
    "\n",
    "print('Out of loop')"
   ]
  },
  {
   "cell_type": "markdown",
   "metadata": {},
   "source": [
    "### 4.3.2. <a id = '4.3.2.'>Continue</a>"
   ]
  },
  {
   "cell_type": "code",
   "execution_count": null,
   "metadata": {},
   "outputs": [],
   "source": [
    "for number in range(10):\n",
    "    print('Number is ' + str(number))\n",
    "    \n",
    "    if number == 5:\n",
    "        # comment\n",
    "        continue\n",
    "\n",
    "    elif number == 3:\n",
    "        #number = number + 1\n",
    "        print( f'This number is {number}' )\n",
    "\n",
    "    else:\n",
    "        #number = number + 2\n",
    "        print('Different number than 3 and 5' , '\\n')\n",
    "    \n",
    "    \n",
    "\n",
    "print('Out of loop')"
   ]
  },
  {
   "cell_type": "code",
   "execution_count": null,
   "metadata": {},
   "outputs": [],
   "source": [
    "# find the even numbers\n",
    "\n",
    "for i in range(10):\n",
    "    \n",
    "    if i % 2 == False:\n",
    "        pass\n",
    "    \n",
    "    else:\n",
    "        continue\n",
    "    \n",
    "    print(\"juan\")\n",
    "    print(i)"
   ]
  },
  {
   "cell_type": "markdown",
   "metadata": {},
   "source": [
    "### 4.3.3. <a id = '4.3.3.'>Break</a>"
   ]
  },
  {
   "cell_type": "code",
   "execution_count": null,
   "metadata": {},
   "outputs": [],
   "source": [
    "for number in range(10):\n",
    "    print('Number is ' + str(number))\n",
    "    \n",
    "    if number == 5:\n",
    "        # comment\n",
    "        print( f'This number is {number}' )\n",
    "\n",
    "    elif number == 0:\n",
    "        #number = number + 1\n",
    "        print('This is the output of break.')\n",
    "        break\n",
    "        \n",
    "    else:\n",
    "        #number = number + 2\n",
    "        print('Different number =! 3, 5', \"\\n\")\n",
    "\n",
    "    \n",
    "\n",
    "print('Out of loop')"
   ]
  },
  {
   "cell_type": "code",
   "execution_count": null,
   "metadata": {},
   "outputs": [],
   "source": [
    "for number in range(10):\n",
    "    if number == 5:\n",
    "        # comment\n",
    "        raise Exception('This is the output of exception as an example.')\n",
    "\n",
    "    elif number == 3:\n",
    "        #number = number + 1\n",
    "        print( f'This number is {number}' )\n",
    "\n",
    "    else:\n",
    "        #number = number + 2\n",
    "        print('Different number')\n",
    "\n",
    "    print('Number is ' + str(number))\n",
    "\n",
    "print('Out of loop')"
   ]
  },
  {
   "cell_type": "markdown",
   "metadata": {},
   "source": [
    "### 4.3.4. <a id = '4.3.4.'> Try </a>\n",
    "\n",
    "|Function|Description|\n",
    "|---|---|\n",
    "|`except`| Run a code if an error occurs.|\n",
    "|`else`| The code will be executed whether there is no error.|\n",
    "|`finally`| The code will be executed <br> does no matter whether or not the try raises an exception.|"
   ]
  },
  {
   "cell_type": "markdown",
   "metadata": {},
   "source": [
    "`except`: Run a code if an error occurs."
   ]
  },
  {
   "cell_type": "code",
   "execution_count": null,
   "metadata": {},
   "outputs": [],
   "source": [
    "x = 'Hola'"
   ]
  },
  {
   "cell_type": "code",
   "execution_count": null,
   "metadata": {},
   "outputs": [],
   "source": [
    "print(x + 4)"
   ]
  },
  {
   "cell_type": "code",
   "execution_count": null,
   "metadata": {},
   "outputs": [],
   "source": [
    "try:\n",
    "    print(x + 4)\n",
    "    \n",
    "except TypeError:\n",
    "    print(5+5)\n",
    "    print(\"An error tipo TypeError\")\n",
    "    \n",
    "except NameError:\n",
    "    print(\"Variable x is not defined\")\n",
    "    \n",
    "except:\n",
    "    print(\"Something else went wrong\")"
   ]
  },
  {
   "cell_type": "code",
   "execution_count": null,
   "metadata": {},
   "outputs": [],
   "source": [
    "name = \"John\"\n",
    "\n",
    "print(namme)"
   ]
  },
  {
   "cell_type": "code",
   "execution_count": null,
   "metadata": {},
   "outputs": [],
   "source": [
    "try:\n",
    "    print(namme)\n",
    "    \n",
    "except TypeError:\n",
    "    print(5+5)\n",
    "    print(\"An error tipo TypeError\")\n",
    "    \n",
    "except NameError:\n",
    "    print(\"the correct label of the variable is name\" )\n",
    "    print(\"Variable x is not defined\")\n",
    "    \n",
    "except:\n",
    "    print(\"Something else went wrong\")"
   ]
  },
  {
   "cell_type": "code",
   "execution_count": null,
   "metadata": {},
   "outputs": [],
   "source": [
    "try:\n",
    "    print(namme)\n",
    "    \n",
    "# except TypeError:\n",
    "#     print(5+5)\n",
    "#     print(\"An error tipo TypeError\")\n",
    "    \n",
    "# except NameError:\n",
    "#     print(\"the correct label of the variable is name\" )\n",
    "#     print(\"Variable x is not defined\")\n",
    "    \n",
    "except:\n",
    "    print(\"There is an error\")"
   ]
  },
  {
   "cell_type": "markdown",
   "metadata": {},
   "source": [
    "`else`: The code will be executed whether there is no error."
   ]
  },
  {
   "cell_type": "code",
   "execution_count": null,
   "metadata": {},
   "outputs": [],
   "source": [
    "x = 6"
   ]
  },
  {
   "cell_type": "code",
   "execution_count": null,
   "metadata": {},
   "outputs": [],
   "source": [
    "try:\n",
    "    x + 4\n",
    "    \n",
    "except:\n",
    "    print(\"Something went wrong\")\n",
    "    #print( 5 + 4)\n",
    "\n",
    "else:\n",
    "    print(\"Nothing went wrong\")\n",
    "    \n",
    "    try:\n",
    "        print( x + \"2\")    \n",
    "    except:\n",
    "        print(\"error 2\")"
   ]
  },
  {
   "cell_type": "markdown",
   "metadata": {},
   "source": [
    "`finally`: The code will be executed does no matter whether or not the try raises an exception."
   ]
  },
  {
   "cell_type": "code",
   "execution_count": null,
   "metadata": {},
   "outputs": [],
   "source": [
    "x = 6"
   ]
  },
  {
   "cell_type": "code",
   "execution_count": null,
   "metadata": {},
   "outputs": [],
   "source": [
    "try:\n",
    "    print(x + 4)\n",
    "except:\n",
    "    print(\"Something went wrong\")\n",
    "finally:\n",
    "    print( f'el elemento {x} ya paso por este filtro')"
   ]
  },
  {
   "cell_type": "markdown",
   "metadata": {},
   "source": [
    "## 4.4. <a id='4.4.'> While Loop </a>\n",
    "While loop is used to repeat code as long as the condition is true. When the logical expression is false, the code will finish executing. [More Info](https://python101.pythonlibrary.org/chapter5_loops.html)"
   ]
  },
  {
   "cell_type": "markdown",
   "metadata": {},
   "source": [
    "### 4.4.1. <a id='4.4.1.'> Structure </a>\n",
    "\n",
    "while <font color='green'>condition</font>: <br>\n",
    "&nbsp;&nbsp;&nbsp;&nbsp;&nbsp;&nbsp;code 1<br><br>\n",
    "&nbsp;&nbsp;&nbsp;&nbsp;&nbsp;&nbsp;<font color='red'>break code</font><br><br>\n",
    "\n",
    "The break code is an expression that allows the logical condition to be false at some point, because if not, the code will continue to execute infinitely."
   ]
  },
  {
   "cell_type": "code",
   "execution_count": 104,
   "metadata": {},
   "outputs": [
    {
     "data": {
      "text/plain": [
       "1"
      ]
     },
     "execution_count": 104,
     "metadata": {},
     "output_type": "execute_result"
    }
   ],
   "source": [
    "i = 1\n",
    "i"
   ]
  },
  {
   "cell_type": "code",
   "execution_count": 105,
   "metadata": {},
   "outputs": [
    {
     "data": {
      "text/plain": [
       "3"
      ]
     },
     "execution_count": 105,
     "metadata": {},
     "output_type": "execute_result"
    }
   ],
   "source": [
    "i += 2\n",
    "i"
   ]
  },
  {
   "cell_type": "code",
   "execution_count": 106,
   "metadata": {},
   "outputs": [
    {
     "data": {
      "text/plain": [
       "6"
      ]
     },
     "execution_count": 106,
     "metadata": {},
     "output_type": "execute_result"
    }
   ],
   "source": [
    "i += 3\n",
    "i"
   ]
  },
  {
   "cell_type": "code",
   "execution_count": 108,
   "metadata": {},
   "outputs": [
    {
     "name": "stdout",
     "output_type": "stream",
     "text": [
      "1\n",
      "2\n",
      "3\n",
      "4\n",
      "5\n",
      "6\n",
      "7\n",
      "8\n",
      "9\n",
      "10\n"
     ]
    }
   ],
   "source": [
    "i = 1\n",
    "\n",
    "while i<=10:\n",
    "    print(i)\n",
    "    \n",
    "    # breakcode\n",
    "    i += 1"
   ]
  },
  {
   "cell_type": "code",
   "execution_count": 109,
   "metadata": {},
   "outputs": [
    {
     "name": "stdout",
     "output_type": "stream",
     "text": [
      "1\n",
      "now i is  2\n",
      "2\n",
      "now i is  3\n",
      "3\n",
      "now i is  4\n",
      "4\n",
      "now i is  5\n",
      "5\n",
      "now i is  6\n",
      "6\n",
      "now i is  7\n",
      "7\n",
      "now i is  8\n",
      "8\n",
      "now i is  9\n",
      "9\n",
      "now i is  10\n"
     ]
    }
   ],
   "source": [
    "i = 1\n",
    "\n",
    "while i < 10:\n",
    "    print(i)\n",
    "    \n",
    "    # break code \n",
    "    i += 1\n",
    "    print(\"now i is \", i)"
   ]
  },
  {
   "cell_type": "markdown",
   "metadata": {},
   "source": [
    "#### Excersice\n",
    "1. Print $2^n$, but the result is less than 10,000."
   ]
  },
  {
   "cell_type": "code",
   "execution_count": 110,
   "metadata": {},
   "outputs": [
    {
     "name": "stdout",
     "output_type": "stream",
     "text": [
      "2\n",
      "now i is  4\n",
      "4\n",
      "now i is  8\n",
      "8\n",
      "now i is  16\n",
      "16\n",
      "now i is  32\n",
      "32\n",
      "now i is  64\n",
      "64\n",
      "now i is  128\n",
      "128\n",
      "now i is  256\n",
      "256\n",
      "now i is  512\n",
      "512\n",
      "now i is  1024\n",
      "1024\n",
      "now i is  2048\n",
      "2048\n",
      "now i is  4096\n",
      "4096\n",
      "now i is  8192\n",
      "8192\n",
      "now i is  16384\n"
     ]
    }
   ],
   "source": [
    "x = 2\n",
    "\n",
    "while x < 10000:\n",
    "    print(x)\n",
    "    \n",
    "    # break code\n",
    "    x = 2*x\n",
    "    print(\"now i is \", x)"
   ]
  },
  {
   "cell_type": "markdown",
   "metadata": {},
   "source": [
    "2. A teacher has 100 apples for his entire class. The first student took four apples, and the next student always took more apples than the previous one. How many children have apples?"
   ]
  },
  {
   "cell_type": "code",
   "execution_count": null,
   "metadata": {},
   "outputs": [],
   "source": [
    "apples = 100\n",
    "\n",
    "# Break code iterator  \n",
    "last_st = 4\n",
    "\n",
    "# Iterator for number of students \n",
    "i = 1\n",
    "\n",
    "while apples > last_st:\n",
    "    \n",
    "    apples = apples - last_st\n",
    "    \n",
    "    # break code\n",
    "    last_st += 1\n",
    "    \n",
    "     # Count students \n",
    "    i += 1\n",
    "    \n",
    "    print ( f'{i-1} children have apples'+ f' and there are {apples} apples left')\n",
    "    # print( f'This number is {number}' )"
   ]
  },
  {
   "cell_type": "markdown",
   "metadata": {},
   "source": [
    "3. Print all elements of an array."
   ]
  },
  {
   "cell_type": "code",
   "execution_count": null,
   "metadata": {},
   "outputs": [],
   "source": [
    "import numpy as np\n",
    "\n",
    "edad = np.array([ 3, 6, 7, 10, 15, 17, 18, 31, 26, 88 , 100, 120, 110])\n",
    "i = 0\n",
    "\n",
    "while i < edad.size:\n",
    "    \n",
    "    print(edad[i])\n",
    "    i += 1"
   ]
  },
  {
   "cell_type": "markdown",
   "metadata": {},
   "source": [
    "4. While loop Excersice"
   ]
  },
  {
   "cell_type": "code",
   "execution_count": null,
   "metadata": {},
   "outputs": [],
   "source": [
    "quarantine_days = 1\n",
    "stress_level = 2\n",
    "\n",
    "\n",
    "while quarantine_days <= 40:\n",
    "    \n",
    "    print ( f'Quarantine day n° {quarantine_days}. ')\n",
    "    \n",
    "    if stress_level> 100:\n",
    "        print (f'Her family let Rebeca out on the day {quarantine_days}.')\n",
    "        stress_level = 1\n",
    "        break\n",
    "     \n",
    "    elif quarantine_days <15:\n",
    "        \n",
    "        print (\"Rebeca watch Love Alarm\")\n",
    "    \n",
    "    elif (quarantine_days >= 15) & (quarantine_days <20):\n",
    "        \n",
    "        print (\"Rebeca reads El mundo de Sofia and Cronicas de una muerte anunciada\")\n",
    "    \n",
    "    elif (quarantine_days >= 20) & (quarantine_days <40):\n",
    "        print ('Rebeca builds her Foundation of Analysis I class')\n",
    "        \n",
    "    else:\n",
    "        print (\"The lady works out\")\n",
    "    \n",
    "    print (f'The day number {quarantine_days} of quarantine is over. \\n ')\n",
    "    \n",
    "    # Days increase\n",
    "    quarantine_days = quarantine_days + 1\n",
    "    stress_level = stress_level * 2\n",
    "\n",
    "print (\"Quarantine is over.\")"
   ]
  },
  {
   "cell_type": "markdown",
   "metadata": {},
   "source": [
    "5. Pandas with While loop"
   ]
  },
  {
   "cell_type": "code",
   "execution_count": 113,
   "metadata": {},
   "outputs": [
    {
     "data": {
      "text/html": [
       "<div>\n",
       "<style scoped>\n",
       "    .dataframe tbody tr th:only-of-type {\n",
       "        vertical-align: middle;\n",
       "    }\n",
       "\n",
       "    .dataframe tbody tr th {\n",
       "        vertical-align: top;\n",
       "    }\n",
       "\n",
       "    .dataframe thead th {\n",
       "        text-align: right;\n",
       "    }\n",
       "</style>\n",
       "<table border=\"1\" class=\"dataframe\">\n",
       "  <thead>\n",
       "    <tr style=\"text-align: right;\">\n",
       "      <th></th>\n",
       "      <th>names</th>\n",
       "      <th>age</th>\n",
       "    </tr>\n",
       "  </thead>\n",
       "  <tbody>\n",
       "    <tr>\n",
       "      <th>0</th>\n",
       "      <td>Martins</td>\n",
       "      <td>23</td>\n",
       "    </tr>\n",
       "    <tr>\n",
       "      <th>1</th>\n",
       "      <td>Raul</td>\n",
       "      <td>25</td>\n",
       "    </tr>\n",
       "    <tr>\n",
       "      <th>2</th>\n",
       "      <td>Estremadoyro</td>\n",
       "      <td>36</td>\n",
       "    </tr>\n",
       "    <tr>\n",
       "      <th>3</th>\n",
       "      <td>Kante</td>\n",
       "      <td>78</td>\n",
       "    </tr>\n",
       "    <tr>\n",
       "      <th>4</th>\n",
       "      <td>Tigo</td>\n",
       "      <td>90</td>\n",
       "    </tr>\n",
       "    <tr>\n",
       "      <th>5</th>\n",
       "      <td>Betson</td>\n",
       "      <td>32</td>\n",
       "    </tr>\n",
       "    <tr>\n",
       "      <th>6</th>\n",
       "      <td>Finado</td>\n",
       "      <td>100</td>\n",
       "    </tr>\n",
       "    <tr>\n",
       "      <th>7</th>\n",
       "      <td>Alex</td>\n",
       "      <td>24</td>\n",
       "    </tr>\n",
       "    <tr>\n",
       "      <th>8</th>\n",
       "      <td>Miracles</td>\n",
       "      <td>12</td>\n",
       "    </tr>\n",
       "    <tr>\n",
       "      <th>9</th>\n",
       "      <td>Bambi</td>\n",
       "      <td>18</td>\n",
       "    </tr>\n",
       "  </tbody>\n",
       "</table>\n",
       "</div>"
      ],
      "text/plain": [
       "          names  age\n",
       "0       Martins   23\n",
       "1          Raul   25\n",
       "2  Estremadoyro   36\n",
       "3         Kante   78\n",
       "4          Tigo   90\n",
       "5        Betson   32\n",
       "6        Finado  100\n",
       "7          Alex   24\n",
       "8      Miracles   12\n",
       "9         Bambi   18"
      ]
     },
     "execution_count": 113,
     "metadata": {},
     "output_type": "execute_result"
    }
   ],
   "source": [
    "import pandas as pd\n",
    "data1 = {'names': ['Martins', 'Raul', 'Estremadoyro', \"Kante\", 'Tigo', 'Betson', 'Finado', 'Alex', 'Miracles', 'Bambi'], \n",
    "     'age': [23, 25, 36, 78, 90, 32, 100, 24, 12, 18]}\n",
    "people = pd.DataFrame( data = data1)\n",
    "people"
   ]
  },
  {
   "cell_type": "code",
   "execution_count": 114,
   "metadata": {},
   "outputs": [
    {
     "name": "stderr",
     "output_type": "stream",
     "text": [
      "/var/folders/v3/40svjrx14hq103xfyw7qhzsh0000gn/T/ipykernel_8197/1628909998.py:15: FutureWarning: Setting an item of incompatible dtype is deprecated and will raise in a future error of pandas. Value 'Pass' has dtype incompatible with float64, please explicitly cast to a compatible dtype first.\n",
      "  people.loc[[i], [\"pass\"]] = \"Pass\"\n"
     ]
    }
   ],
   "source": [
    "i = 0\n",
    "# row by row\n",
    "nrows = people.age.count()\n",
    "while i < nrows:\n",
    "  \n",
    "    if people['age'][i] > 150:\n",
    "        print('Ohhh no a phantom')\n",
    "        break\n",
    "    \n",
    "    elif people['age'][i] < 18:\n",
    "        # New column\n",
    "        people.loc[[i], [\"pass\"]] = \"No pass\"\n",
    "    \n",
    "    else:\n",
    "        people.loc[[i], [\"pass\"]] = \"Pass\"\n",
    "        \n",
    "    i += 1"
   ]
  },
  {
   "cell_type": "markdown",
   "metadata": {},
   "source": [
    "## 4.5. <a id = '4.5.'> References </a>\n",
    "\n",
    "1. [DataCamp](https://www.datacamp.com/community/tutorials/python-if-elif-else?utm_source=adwords_ppc&utm_medium=cpc&utm_campaignid=1455363063&utm_adgroupid=65083631748&utm_device=c&utm_keyword=&utm_matchtype=b&utm_network=g&utm_adpostion=&utm_creative=332602034358&utm_targetid=dsa-429603003980&utm_loc_interest_ms=&utm_loc_physical_ms=9060932&gclid=CjwKCAiA7dKMBhBCEiwAO_crFCArGqe0fxSaO2q6eTaTtigeALef5CcM1hRWgNI8hMEoVCg-uOwFDhoCu1kQAvD_BwE)\n",
    "2. https://www.programiz.com/python-programming/if-elif-else\n",
    "3. https://www.guru99.com/if-loop-python-conditional-structures.html\n",
    "4. https://www.w3schools.com/python/python_for_loops.asp\n",
    "5. https://www.programiz.com/python-programming/for-loop\n",
    "6. https://www.geeksforgeeks.org/loops-in-python/\n",
    "7. https://www.w3schools.com/python/python_while_loops.asp\n",
    "8. https://www.programiz.com/python-programming/while-loop\n",
    "9. https://www.tutorialspoint.com/python/python_while_loop.htm"
   ]
  },
  {
   "cell_type": "code",
   "execution_count": null,
   "metadata": {},
   "outputs": [],
   "source": []
  }
 ],
 "metadata": {
  "hide_input": false,
  "kernelspec": {
   "display_name": "Python 3 (ipykernel)",
   "language": "python",
   "name": "python3"
  },
  "language_info": {
   "codemirror_mode": {
    "name": "ipython",
    "version": 3
   },
   "file_extension": ".py",
   "mimetype": "text/x-python",
   "name": "python",
   "nbconvert_exporter": "python",
   "pygments_lexer": "ipython3",
   "version": "3.11.7"
  },
  "toc": {
   "base_numbering": 1,
   "nav_menu": {},
   "number_sections": true,
   "sideBar": true,
   "skip_h1_title": false,
   "title_cell": "Table of Contents",
   "title_sidebar": "Contents",
   "toc_cell": false,
   "toc_position": {},
   "toc_section_display": true,
   "toc_window_display": false
  }
 },
 "nbformat": 4,
 "nbformat_minor": 4
}
